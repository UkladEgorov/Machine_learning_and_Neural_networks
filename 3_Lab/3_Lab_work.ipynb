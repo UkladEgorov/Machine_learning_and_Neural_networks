{
 "cells": [
  {
   "cell_type": "code",
   "execution_count": 4,
   "id": "17ee4bf5",
   "metadata": {},
   "outputs": [
    {
     "name": "stdout",
     "output_type": "stream",
     "text": [
      "Collecting seaborn\n",
      "  Downloading seaborn-0.11.2-py3-none-any.whl (292 kB)\n",
      "     |████████████████████████████████| 292 kB 804 kB/s            \n",
      "\u001b[?25hRequirement already satisfied: matplotlib>=2.2 in /home/egor/miniconda3/envs/jupyter/lib/python3.6/site-packages (from seaborn) (3.3.4)\n",
      "Requirement already satisfied: pandas>=0.23 in /home/egor/miniconda3/envs/jupyter/lib/python3.6/site-packages (from seaborn) (1.1.5)\n",
      "Requirement already satisfied: numpy>=1.15 in /home/egor/miniconda3/envs/jupyter/lib/python3.6/site-packages (from seaborn) (1.19.5)\n",
      "Collecting scipy>=1.0\n",
      "  Downloading scipy-1.5.4-cp36-cp36m-manylinux1_x86_64.whl (25.9 MB)\n",
      "     |████████████████████████████████| 25.9 MB 10.6 MB/s            \n",
      "\u001b[?25hRequirement already satisfied: python-dateutil>=2.1 in /home/egor/miniconda3/envs/jupyter/lib/python3.6/site-packages (from matplotlib>=2.2->seaborn) (2.8.2)\n",
      "Requirement already satisfied: cycler>=0.10 in /home/egor/miniconda3/envs/jupyter/lib/python3.6/site-packages (from matplotlib>=2.2->seaborn) (0.11.0)\n",
      "Requirement already satisfied: kiwisolver>=1.0.1 in /home/egor/miniconda3/envs/jupyter/lib/python3.6/site-packages (from matplotlib>=2.2->seaborn) (1.3.1)\n",
      "Requirement already satisfied: pillow>=6.2.0 in /home/egor/miniconda3/envs/jupyter/lib/python3.6/site-packages (from matplotlib>=2.2->seaborn) (8.4.0)\n",
      "Requirement already satisfied: pyparsing!=2.0.4,!=2.1.2,!=2.1.6,>=2.0.3 in /home/egor/miniconda3/envs/jupyter/lib/python3.6/site-packages (from matplotlib>=2.2->seaborn) (3.1.2)\n",
      "Requirement already satisfied: pytz>=2017.2 in /home/egor/miniconda3/envs/jupyter/lib/python3.6/site-packages (from pandas>=0.23->seaborn) (2024.1)\n",
      "Requirement already satisfied: six>=1.5 in /home/egor/miniconda3/envs/jupyter/lib/python3.6/site-packages (from python-dateutil>=2.1->matplotlib>=2.2->seaborn) (1.16.0)\n",
      "Installing collected packages: scipy, seaborn\n",
      "Successfully installed scipy-1.5.4 seaborn-0.11.2\n"
     ]
    }
   ],
   "source": [
    "#!pip install torch\n",
    "#!pip install torchvision"
   ]
  },
  {
   "cell_type": "code",
   "execution_count": 1,
   "id": "3fc66e28",
   "metadata": {},
   "outputs": [],
   "source": [
    "import numpy as np\n",
    "import pandas as pd\n",
    "import matplotlib.pyplot as plt\n",
    "import seaborn as sns\n",
    "from PIL import Image\n",
    "import os\n",
    "import torch\n",
    "from torch.utils.data import DataLoader\n",
    "from torch.utils.data import Dataset\n",
    "import torch.nn as nn\n",
    "import torch.nn.functional as F\n",
    "from torchvision.io import read_image\n",
    "from torchvision.transforms import ToTensor"
   ]
  },
  {
   "cell_type": "markdown",
   "id": "89319a5f",
   "metadata": {},
   "source": [
    "1) Выбрать задачу по классификации изображений, загрузить данные,\n",
    "провести анализ (распределение классов, особенности данных и т.д.) -\n",
    "2 балла"
   ]
  },
  {
   "cell_type": "markdown",
   "id": "688f3fd1",
   "metadata": {},
   "source": [
    "Мною была выбрана задача классификации птиц: https: .kaggle.com/competitions/sp23-bird-classif-cation-osu-ai-cl-ub/"
   ]
  },
  {
   "cell_type": "code",
   "execution_count": 2,
   "id": "7d56aa51",
   "metadata": {},
   "outputs": [
    {
     "data": {
      "text/html": [
       "<div>\n",
       "<style scoped>\n",
       "    .dataframe tbody tr th:only-of-type {\n",
       "        vertical-align: middle;\n",
       "    }\n",
       "\n",
       "    .dataframe tbody tr th {\n",
       "        vertical-align: top;\n",
       "    }\n",
       "\n",
       "    .dataframe thead th {\n",
       "        text-align: right;\n",
       "    }\n",
       "</style>\n",
       "<table border=\"1\" class=\"dataframe\">\n",
       "  <thead>\n",
       "    <tr style=\"text-align: right;\">\n",
       "      <th></th>\n",
       "      <th>image_id</th>\n",
       "      <th>class_id</th>\n",
       "      <th>filepaths</th>\n",
       "      <th>labels</th>\n",
       "      <th>scientific_label</th>\n",
       "      <th>data_set</th>\n",
       "    </tr>\n",
       "  </thead>\n",
       "  <tbody>\n",
       "    <tr>\n",
       "      <th>0</th>\n",
       "      <td>0</td>\n",
       "      <td>0</td>\n",
       "      <td>train/ABBOTTS BABBLER/001.jpg</td>\n",
       "      <td>ABBOTTS BABBLER</td>\n",
       "      <td>Malacocincla abbotti</td>\n",
       "      <td>train</td>\n",
       "    </tr>\n",
       "    <tr>\n",
       "      <th>1</th>\n",
       "      <td>1</td>\n",
       "      <td>0</td>\n",
       "      <td>train/ABBOTTS BABBLER/002.jpg</td>\n",
       "      <td>ABBOTTS BABBLER</td>\n",
       "      <td>Malacocincla abbotti</td>\n",
       "      <td>train</td>\n",
       "    </tr>\n",
       "    <tr>\n",
       "      <th>2</th>\n",
       "      <td>2</td>\n",
       "      <td>0</td>\n",
       "      <td>train/ABBOTTS BABBLER/003.jpg</td>\n",
       "      <td>ABBOTTS BABBLER</td>\n",
       "      <td>Malacocincla abbotti</td>\n",
       "      <td>train</td>\n",
       "    </tr>\n",
       "    <tr>\n",
       "      <th>3</th>\n",
       "      <td>3</td>\n",
       "      <td>0</td>\n",
       "      <td>train/ABBOTTS BABBLER/004.jpg</td>\n",
       "      <td>ABBOTTS BABBLER</td>\n",
       "      <td>Malacocincla abbotti</td>\n",
       "      <td>train</td>\n",
       "    </tr>\n",
       "    <tr>\n",
       "      <th>4</th>\n",
       "      <td>4</td>\n",
       "      <td>0</td>\n",
       "      <td>train/ABBOTTS BABBLER/005.jpg</td>\n",
       "      <td>ABBOTTS BABBLER</td>\n",
       "      <td>Malacocincla abbotti</td>\n",
       "      <td>train</td>\n",
       "    </tr>\n",
       "    <tr>\n",
       "      <th>...</th>\n",
       "      <td>...</td>\n",
       "      <td>...</td>\n",
       "      <td>...</td>\n",
       "      <td>...</td>\n",
       "      <td>...</td>\n",
       "      <td>...</td>\n",
       "    </tr>\n",
       "    <tr>\n",
       "      <th>72871</th>\n",
       "      <td>72871</td>\n",
       "      <td>449</td>\n",
       "      <td>valid/YELLOW HEADED BLACKBIRD/1.jpg</td>\n",
       "      <td>YELLOW HEADED BLACKBIRD</td>\n",
       "      <td>Xanthocephalus</td>\n",
       "      <td>valid</td>\n",
       "    </tr>\n",
       "    <tr>\n",
       "      <th>72872</th>\n",
       "      <td>72872</td>\n",
       "      <td>449</td>\n",
       "      <td>valid/YELLOW HEADED BLACKBIRD/2.jpg</td>\n",
       "      <td>YELLOW HEADED BLACKBIRD</td>\n",
       "      <td>Xanthocephalus</td>\n",
       "      <td>valid</td>\n",
       "    </tr>\n",
       "    <tr>\n",
       "      <th>72873</th>\n",
       "      <td>72873</td>\n",
       "      <td>449</td>\n",
       "      <td>valid/YELLOW HEADED BLACKBIRD/3.jpg</td>\n",
       "      <td>YELLOW HEADED BLACKBIRD</td>\n",
       "      <td>Xanthocephalus</td>\n",
       "      <td>valid</td>\n",
       "    </tr>\n",
       "    <tr>\n",
       "      <th>72874</th>\n",
       "      <td>72874</td>\n",
       "      <td>449</td>\n",
       "      <td>valid/YELLOW HEADED BLACKBIRD/4.jpg</td>\n",
       "      <td>YELLOW HEADED BLACKBIRD</td>\n",
       "      <td>Xanthocephalus</td>\n",
       "      <td>valid</td>\n",
       "    </tr>\n",
       "    <tr>\n",
       "      <th>72875</th>\n",
       "      <td>72875</td>\n",
       "      <td>449</td>\n",
       "      <td>valid/YELLOW HEADED BLACKBIRD/5.jpg</td>\n",
       "      <td>YELLOW HEADED BLACKBIRD</td>\n",
       "      <td>Xanthocephalus</td>\n",
       "      <td>valid</td>\n",
       "    </tr>\n",
       "  </tbody>\n",
       "</table>\n",
       "<p>72876 rows × 6 columns</p>\n",
       "</div>"
      ],
      "text/plain": [
       "       image_id  class_id                            filepaths  \\\n",
       "0             0         0        train/ABBOTTS BABBLER/001.jpg   \n",
       "1             1         0        train/ABBOTTS BABBLER/002.jpg   \n",
       "2             2         0        train/ABBOTTS BABBLER/003.jpg   \n",
       "3             3         0        train/ABBOTTS BABBLER/004.jpg   \n",
       "4             4         0        train/ABBOTTS BABBLER/005.jpg   \n",
       "...         ...       ...                                  ...   \n",
       "72871     72871       449  valid/YELLOW HEADED BLACKBIRD/1.jpg   \n",
       "72872     72872       449  valid/YELLOW HEADED BLACKBIRD/2.jpg   \n",
       "72873     72873       449  valid/YELLOW HEADED BLACKBIRD/3.jpg   \n",
       "72874     72874       449  valid/YELLOW HEADED BLACKBIRD/4.jpg   \n",
       "72875     72875       449  valid/YELLOW HEADED BLACKBIRD/5.jpg   \n",
       "\n",
       "                        labels      scientific_label data_set  \n",
       "0              ABBOTTS BABBLER  Malacocincla abbotti    train  \n",
       "1              ABBOTTS BABBLER  Malacocincla abbotti    train  \n",
       "2              ABBOTTS BABBLER  Malacocincla abbotti    train  \n",
       "3              ABBOTTS BABBLER  Malacocincla abbotti    train  \n",
       "4              ABBOTTS BABBLER  Malacocincla abbotti    train  \n",
       "...                        ...                   ...      ...  \n",
       "72871  YELLOW HEADED BLACKBIRD        Xanthocephalus    valid  \n",
       "72872  YELLOW HEADED BLACKBIRD        Xanthocephalus    valid  \n",
       "72873  YELLOW HEADED BLACKBIRD        Xanthocephalus    valid  \n",
       "72874  YELLOW HEADED BLACKBIRD        Xanthocephalus    valid  \n",
       "72875  YELLOW HEADED BLACKBIRD        Xanthocephalus    valid  \n",
       "\n",
       "[72876 rows x 6 columns]"
      ]
     },
     "execution_count": 2,
     "metadata": {},
     "output_type": "execute_result"
    }
   ],
   "source": [
    " # Для проверки будет удобно записать в переменную path свой path - код будет работать\n",
    "#path = '/media/egor/Windows/Users/Egor/Documents/Files/Учёба/ML_and_DL_Digital_department/3_Lab/'\n",
    "path = 'C:/Users/Egor/Documents/Files/Учёба/ML_and_DL_Digital_department/3_Lab/'\n",
    "df = pd.read_csv(f'{path}birds.csv')\n",
    "df"
   ]
  },
  {
   "cell_type": "code",
   "execution_count": 3,
   "id": "a6875205",
   "metadata": {},
   "outputs": [
    {
     "name": "stdout",
     "output_type": "stream",
     "text": [
      "count     72876\n",
      "unique      450\n",
      "top         262\n",
      "freq        253\n",
      "Name: class_id, dtype: object\n",
      "count     70626\n",
      "unique      450\n",
      "top         262\n",
      "freq        248\n",
      "Name: class_id, dtype: object\n",
      "count     2250\n",
      "unique     450\n",
      "top          0\n",
      "freq         5\n",
      "Name: class_id, dtype: object\n"
     ]
    }
   ],
   "source": [
    "df['class_id'] = df['class_id'].apply(str)\n",
    "df_train = df[df['data_set'] == 'train']\n",
    "df_valid = df[df['data_set'] == 'valid']\n",
    "print(df['class_id'].describe())\n",
    "print(df_train['class_id'].describe())\n",
    "print(df_valid['class_id'].describe())"
   ]
  },
  {
   "cell_type": "code",
   "execution_count": 4,
   "id": "a0a13aa0",
   "metadata": {},
   "outputs": [
    {
     "name": "stdout",
     "output_type": "stream",
     "text": [
      "count           72876\n",
      "unique            450\n",
      "top       HOUSE FINCH\n",
      "freq              253\n",
      "Name: labels, dtype: object\n",
      "count           70626\n",
      "unique            450\n",
      "top       HOUSE FINCH\n",
      "freq              248\n",
      "Name: labels, dtype: object\n",
      "count                2250\n",
      "unique                450\n",
      "top       MANGROVE CUCKOO\n",
      "freq                    5\n",
      "Name: labels, dtype: object\n"
     ]
    }
   ],
   "source": [
    "print(df['labels'].describe())\n",
    "print(df_train['labels'].describe())\n",
    "print(df_valid['labels'].describe())\n",
    "# Видим, что class_id и labels совпадают - с датасетом всё хорошо."
   ]
  },
  {
   "cell_type": "code",
   "execution_count": 5,
   "id": "76a1e052",
   "metadata": {},
   "outputs": [
    {
     "data": {
      "text/plain": [
       "count                   72876\n",
       "unique                    447\n",
       "top       Psittacula eupatria\n",
       "freq                      354\n",
       "Name: scientific_label, dtype: object"
      ]
     },
     "execution_count": 5,
     "metadata": {},
     "output_type": "execute_result"
    }
   ],
   "source": [
    "df['scientific_label'].describe()\n",
    "# У нас 447 видов птиц (по видимому есть несколько морф, которые относятся к одному виду),\n",
    "# самый распостранённый класс Александров кольчатый попугай (зелёненький такой)\n",
    "# У него 354 изображения, что составляет ~0,5%,\n",
    "# что в ~2 раза больше, чем среднее количество фотографий 72676/447 = 163 на класс.\n",
    "# Тем не менее, т.к. у нас очень много классов, то можно считать датасет сбалансированным по классам.\n",
    "# Т.к. превышение 1 класса из 447 в 2 раза выше среднего - не является чем-то критичным."
   ]
  },
  {
   "cell_type": "code",
   "execution_count": 6,
   "id": "bcb9c74f",
   "metadata": {
    "scrolled": true
   },
   "outputs": [
    {
     "data": {
      "text/plain": [
       "count     72876\n",
       "unique        2\n",
       "top       train\n",
       "freq      70626\n",
       "Name: data_set, dtype: object"
      ]
     },
     "execution_count": 6,
     "metadata": {},
     "output_type": "execute_result"
    }
   ],
   "source": [
    "df['data_set'].describe()\n",
    "# Видим, что 97% набора являются тренирововчным, и только 3 отданы на валидацию."
   ]
  },
  {
   "cell_type": "code",
   "execution_count": 7,
   "id": "1e049165",
   "metadata": {},
   "outputs": [
    {
     "data": {
      "text/html": [
       "<div>\n",
       "<style scoped>\n",
       "    .dataframe tbody tr th:only-of-type {\n",
       "        vertical-align: middle;\n",
       "    }\n",
       "\n",
       "    .dataframe tbody tr th {\n",
       "        vertical-align: top;\n",
       "    }\n",
       "\n",
       "    .dataframe thead th {\n",
       "        text-align: right;\n",
       "    }\n",
       "</style>\n",
       "<table border=\"1\" class=\"dataframe\">\n",
       "  <thead>\n",
       "    <tr style=\"text-align: right;\">\n",
       "      <th></th>\n",
       "      <th>image_id</th>\n",
       "      <th>class_id</th>\n",
       "    </tr>\n",
       "  </thead>\n",
       "  <tbody>\n",
       "    <tr>\n",
       "      <th>0</th>\n",
       "      <td>72876</td>\n",
       "      <td>427</td>\n",
       "    </tr>\n",
       "    <tr>\n",
       "      <th>1</th>\n",
       "      <td>72877</td>\n",
       "      <td>188</td>\n",
       "    </tr>\n",
       "    <tr>\n",
       "      <th>2</th>\n",
       "      <td>72878</td>\n",
       "      <td>142</td>\n",
       "    </tr>\n",
       "    <tr>\n",
       "      <th>3</th>\n",
       "      <td>72879</td>\n",
       "      <td>413</td>\n",
       "    </tr>\n",
       "    <tr>\n",
       "      <th>4</th>\n",
       "      <td>72880</td>\n",
       "      <td>371</td>\n",
       "    </tr>\n",
       "    <tr>\n",
       "      <th>...</th>\n",
       "      <td>...</td>\n",
       "      <td>...</td>\n",
       "    </tr>\n",
       "    <tr>\n",
       "      <th>2245</th>\n",
       "      <td>75121</td>\n",
       "      <td>167</td>\n",
       "    </tr>\n",
       "    <tr>\n",
       "      <th>2246</th>\n",
       "      <td>75122</td>\n",
       "      <td>373</td>\n",
       "    </tr>\n",
       "    <tr>\n",
       "      <th>2247</th>\n",
       "      <td>75123</td>\n",
       "      <td>277</td>\n",
       "    </tr>\n",
       "    <tr>\n",
       "      <th>2248</th>\n",
       "      <td>75124</td>\n",
       "      <td>126</td>\n",
       "    </tr>\n",
       "    <tr>\n",
       "      <th>2249</th>\n",
       "      <td>75125</td>\n",
       "      <td>284</td>\n",
       "    </tr>\n",
       "  </tbody>\n",
       "</table>\n",
       "<p>2250 rows × 2 columns</p>\n",
       "</div>"
      ],
      "text/plain": [
       "      image_id  class_id\n",
       "0        72876       427\n",
       "1        72877       188\n",
       "2        72878       142\n",
       "3        72879       413\n",
       "4        72880       371\n",
       "...        ...       ...\n",
       "2245     75121       167\n",
       "2246     75122       373\n",
       "2247     75123       277\n",
       "2248     75124       126\n",
       "2249     75125       284\n",
       "\n",
       "[2250 rows x 2 columns]"
      ]
     },
     "execution_count": 7,
     "metadata": {},
     "output_type": "execute_result"
    }
   ],
   "source": [
    "df_test = pd.read_csv(f'{path}sample_solution.csv')\n",
    "df_test"
   ]
  },
  {
   "cell_type": "code",
   "execution_count": 8,
   "id": "0733f8e2",
   "metadata": {},
   "outputs": [
    {
     "data": {
      "text/plain": [
       "count     2250\n",
       "unique     445\n",
       "top        305\n",
       "freq        12\n",
       "Name: class_id, dtype: object"
      ]
     },
     "execution_count": 8,
     "metadata": {},
     "output_type": "execute_result"
    }
   ],
   "source": [
    "df_test['class_id'] = df_test['class_id'].apply(str)\n",
    "df_test['class_id'].describe()\n",
    "# В папке test находится ~3% от общего количества изображений\n",
    "# Из 450 классов тренировочного набора присутствует 445 классов,\n",
    "# т.е. 5 классов не предствалены в тестовом наборе"
   ]
  },
  {
   "cell_type": "code",
   "execution_count": 4,
   "id": "5094905d",
   "metadata": {},
   "outputs": [],
   "source": [
    "df['class_id'] = df['class_id'].apply(int)\n",
    "df_train = df[df['data_set'] == 'train']\n",
    "df_valid = df[df['data_set'] == 'valid']"
   ]
  },
  {
   "cell_type": "markdown",
   "id": "880be653",
   "metadata": {},
   "source": [
    "2) Написать класс для датасета, наследуемый от PyTorch Dataset, в\n",
    "котором реализовать init, len, getitem методы - 3 балла"
   ]
  },
  {
   "cell_type": "code",
   "execution_count": 5,
   "id": "1b4de1ad",
   "metadata": {},
   "outputs": [],
   "source": [
    "class Birds(Dataset):\n",
    "    \n",
    "    def __init__(self, path, annotation, transform = None, target_transform = None):\n",
    "        self.img_labels = annotation['image_id']\n",
    "        self.img_class = annotation['class_id']\n",
    "        self.data_dir = path\n",
    "        self.img_dir = annotation['filepaths']\n",
    "        self.transform = transform\n",
    "        self.target_transform = target_transform\n",
    "\n",
    "    def __len__(self):\n",
    "        return len(self.img_labels)\n",
    "\n",
    "    def __getitem__(self, idx):\n",
    "        img_path = str(self.data_dir + self.img_dir[idx])\n",
    "        image = read_image(img_path)\n",
    "        label = self.img_labels[idx]\n",
    "        if self.transform:\n",
    "            image = self.transform(image)\n",
    "        if self.target_transform:\n",
    "            label = self.target_transform(label)\n",
    "        return image, label"
   ]
  },
  {
   "cell_type": "markdown",
   "id": "fa564a34",
   "metadata": {},
   "source": [
    "3) Поместить датасет в dataloader, разбив на батчи - 3 балла"
   ]
  },
  {
   "cell_type": "code",
   "execution_count": 8,
   "id": "6760396d",
   "metadata": {},
   "outputs": [],
   "source": [
    "train_data = Birds(path, df_train)\n",
    "train_dataloader = DataLoader(train_data, batch_size=100, shuffle=True, drop_last=True)\n",
    "valid_data = Birds(path, df_valid)\n",
    "valid_dataloader = DataLoader(valid_data, shuffle=False, drop_last=True)"
   ]
  },
  {
   "cell_type": "code",
   "execution_count": 9,
   "id": "ed80e44a",
   "metadata": {},
   "outputs": [
    {
     "name": "stdout",
     "output_type": "stream",
     "text": [
      "torch.Size([100, 3, 224, 224])\n",
      "torch.Size([3, 224, 224])\n",
      "<class 'torch.Tensor'>\n",
      "<class 'numpy.ndarray'>\n",
      "<class 'PIL.Image.Image'>\n"
     ]
    }
   ],
   "source": [
    "# Выбор одного случайного изображения\n",
    "for img, label in train_dataloader:\n",
    "    break\n",
    "print(img.shape)\n",
    "print(img[0].shape)\n",
    "# Переворачиваем порядок измерений из (channels, height, width) в (height, width, channels)\n",
    "img = img[0].permute(1, 2, 0)\n",
    "print(type(img))\n",
    "# Преобразуем тензор в массив numpy\n",
    "img_np = img.numpy()\n",
    "img = (img * 255).byte()\n",
    "print(type(img_np))\n",
    "# Создаем изображение с помощью PIL\n",
    "img_pil = Image.fromarray(img_np)\n",
    "print(type(img_pil))\n",
    "\n",
    "#img_pil.show()\n",
    "# Изначальный размер изображения batch*3*224*224"
   ]
  },
  {
   "cell_type": "raw",
   "id": "e6a603fe",
   "metadata": {},
   "source": [
    "# Display image and label.\n",
    "train_features, train_labels = next(iter(train_dataloader))\n",
    "print(f\"Feature batch shape: {train_features.size()}\")\n",
    "print(f\"Labels batch shape: {train_labels.size()}\")\n",
    "img = train_features[0].squeeze().permute(1, 2, 0)\n",
    "label = train_labels[0]\n",
    "plt.imshow(img, cmap=\"gray\")\n",
    "plt.show()\n",
    "print(f\"Label: {label}\")"
   ]
  },
  {
   "cell_type": "markdown",
   "id": "79b50569",
   "metadata": {},
   "source": [
    "4) Обучить модель, состоящую из полносвязных слоёв или обучить модель,\n",
    "состоящую из сверточных и полносвязных слоев (например, Conv -\n",
    "Pooling - Conv - Linear - Linear) - 5 баллов"
   ]
  },
  {
   "cell_type": "markdown",
   "id": "4b9d545b",
   "metadata": {},
   "source": [
    "Решил попробовать немного другую архитектуру: Conv - Norm - Conv - Pooling - Conv - Linear - Linear"
   ]
  },
  {
   "cell_type": "code",
   "execution_count": 10,
   "id": "4e84e233",
   "metadata": {},
   "outputs": [],
   "source": [
    "class MyFirstArchiectureNN(nn.Module):\n",
    "    # Изначально мой батч размерности batch*3*224*224\n",
    "    def __init__(self):\n",
    "        super(MyFirstArchiectureNN, self).__init__()\n",
    "        self.conv1 = nn.Conv2d(in_channels=3, out_channels=6, kernel_size=5, stride=1, padding=1)\n",
    "        # Теперь он свёрнут до batch*6*222*222\n",
    "        self.pool1 = nn.MaxPool2d(3, stride=2)\n",
    "        # Pooling уменьшил размерность в 2 раза batch*6*110*110\n",
    "        self.conv2 = nn.Conv2d(in_channels=6, out_channels=12, kernel_size=10, stride=1, padding=1)\n",
    "        # Теперь он свёрнут до batch*12*103*103\n",
    "        self.pool2 = nn.MaxPool2d(2, stride=3)\n",
    "        # Теперь он свёрнут до batch*12*51*51\n",
    "        self.conv3 = nn.Conv2d(in_channels=12, out_channels=24, kernel_size=20, stride=1, padding=1)\n",
    "        # Теперь он свёрнут до batch*24*34*34\n",
    "        self.pool3 = nn.MaxPool2d(2, stride=3)\n",
    "        \n",
    "        self.linear1 = nn.Linear(24*6*6, 512)\n",
    "        # Теперь свёрнут до 1*\n",
    "        self.linear2 = nn.Linear(512, 450)\n",
    "        #Сворачиваем до 450 (сколько целевых классов)\n",
    "\n",
    "    def forward(self, input):\n",
    "        output = F.relu(self.conv1(input))\n",
    "        print(output.shape)\n",
    "        output = self.pool1(output)\n",
    "        print(output.shape)\n",
    "        output = F.relu(self.conv2(output))\n",
    "        print(output.shape)\n",
    "        output = self.pool2(output)\n",
    "        print(output.shape)\n",
    "        output = F.relu(self.conv3(output))\n",
    "        print(output.shape)\n",
    "        output = self.pool3(output)\n",
    "        print(output.shape)\n",
    "        output = output.view(output.size(0), 24*6*6)\n",
    "        output = F.relu(self.linear1(output))\n",
    "        print(output.shape)\n",
    "        output = self.linear2(output)\n",
    "        print(output.shape)\n",
    "        return output"
   ]
  },
  {
   "cell_type": "code",
   "execution_count": 11,
   "id": "76167f34",
   "metadata": {},
   "outputs": [
    {
     "name": "stdout",
     "output_type": "stream",
     "text": [
      "Доступно устройств GPU: 0\n"
     ]
    }
   ],
   "source": [
    "device_count = torch.cuda.device_count()\n",
    "print(f\"Доступно устройств GPU: {device_count}\")\n",
    "\n",
    "for i in range(device_count):\n",
    "    device_name = torch.cuda.get_device_name(i)\n",
    "    print(f\"Устройство {i}: {device_name}\")"
   ]
  },
  {
   "cell_type": "code",
   "execution_count": 12,
   "id": "333e8c4f",
   "metadata": {},
   "outputs": [
    {
     "name": "stdout",
     "output_type": "stream",
     "text": [
      "cpu\n"
     ]
    }
   ],
   "source": [
    "\n",
    "# Определяем устройство для обучения\n",
    "device = torch.device('cuda:0' if torch.cuda.is_available() else 'cpu')\n",
    "device = 'cpu'\n",
    "print(device)"
   ]
  },
  {
   "cell_type": "code",
   "execution_count": 13,
   "id": "052682ff",
   "metadata": {
    "scrolled": false
   },
   "outputs": [
    {
     "name": "stdout",
     "output_type": "stream",
     "text": [
      "torch.Size([100, 6, 222, 222])\n",
      "torch.Size([100, 6, 110, 110])\n",
      "torch.Size([100, 12, 103, 103])\n",
      "torch.Size([100, 12, 34, 34])\n",
      "torch.Size([100, 24, 17, 17])\n",
      "torch.Size([100, 24, 6, 6])\n",
      "torch.Size([100, 512])\n",
      "torch.Size([100, 450])\n"
     ]
    },
    {
     "ename": "IndexError",
     "evalue": "Target 12564 is out of bounds.",
     "output_type": "error",
     "traceback": [
      "\u001b[1;31m---------------------------------------------------------------------------\u001b[0m",
      "\u001b[1;31mIndexError\u001b[0m                                Traceback (most recent call last)",
      "Cell \u001b[1;32mIn[13], line 26\u001b[0m\n\u001b[0;32m     24\u001b[0m optimizer\u001b[38;5;241m.\u001b[39mzero_grad()\n\u001b[0;32m     25\u001b[0m outputs \u001b[38;5;241m=\u001b[39m my_first_nn(batch\u001b[38;5;241m.\u001b[39mfloat())\n\u001b[1;32m---> 26\u001b[0m loss \u001b[38;5;241m=\u001b[39m criterion(outputs, labels)\n\u001b[0;32m     27\u001b[0m loss\u001b[38;5;241m.\u001b[39mbackward()\n\u001b[0;32m     28\u001b[0m optimizer\u001b[38;5;241m.\u001b[39mstep()\n",
      "File \u001b[1;32m~\\anaconda3\\Lib\\site-packages\\torch\\nn\\modules\\module.py:1511\u001b[0m, in \u001b[0;36mModule._wrapped_call_impl\u001b[1;34m(self, *args, **kwargs)\u001b[0m\n\u001b[0;32m   1509\u001b[0m     \u001b[38;5;28;01mreturn\u001b[39;00m \u001b[38;5;28mself\u001b[39m\u001b[38;5;241m.\u001b[39m_compiled_call_impl(\u001b[38;5;241m*\u001b[39margs, \u001b[38;5;241m*\u001b[39m\u001b[38;5;241m*\u001b[39mkwargs)  \u001b[38;5;66;03m# type: ignore[misc]\u001b[39;00m\n\u001b[0;32m   1510\u001b[0m \u001b[38;5;28;01melse\u001b[39;00m:\n\u001b[1;32m-> 1511\u001b[0m     \u001b[38;5;28;01mreturn\u001b[39;00m \u001b[38;5;28mself\u001b[39m\u001b[38;5;241m.\u001b[39m_call_impl(\u001b[38;5;241m*\u001b[39margs, \u001b[38;5;241m*\u001b[39m\u001b[38;5;241m*\u001b[39mkwargs)\n",
      "File \u001b[1;32m~\\anaconda3\\Lib\\site-packages\\torch\\nn\\modules\\module.py:1520\u001b[0m, in \u001b[0;36mModule._call_impl\u001b[1;34m(self, *args, **kwargs)\u001b[0m\n\u001b[0;32m   1515\u001b[0m \u001b[38;5;66;03m# If we don't have any hooks, we want to skip the rest of the logic in\u001b[39;00m\n\u001b[0;32m   1516\u001b[0m \u001b[38;5;66;03m# this function, and just call forward.\u001b[39;00m\n\u001b[0;32m   1517\u001b[0m \u001b[38;5;28;01mif\u001b[39;00m \u001b[38;5;129;01mnot\u001b[39;00m (\u001b[38;5;28mself\u001b[39m\u001b[38;5;241m.\u001b[39m_backward_hooks \u001b[38;5;129;01mor\u001b[39;00m \u001b[38;5;28mself\u001b[39m\u001b[38;5;241m.\u001b[39m_backward_pre_hooks \u001b[38;5;129;01mor\u001b[39;00m \u001b[38;5;28mself\u001b[39m\u001b[38;5;241m.\u001b[39m_forward_hooks \u001b[38;5;129;01mor\u001b[39;00m \u001b[38;5;28mself\u001b[39m\u001b[38;5;241m.\u001b[39m_forward_pre_hooks\n\u001b[0;32m   1518\u001b[0m         \u001b[38;5;129;01mor\u001b[39;00m _global_backward_pre_hooks \u001b[38;5;129;01mor\u001b[39;00m _global_backward_hooks\n\u001b[0;32m   1519\u001b[0m         \u001b[38;5;129;01mor\u001b[39;00m _global_forward_hooks \u001b[38;5;129;01mor\u001b[39;00m _global_forward_pre_hooks):\n\u001b[1;32m-> 1520\u001b[0m     \u001b[38;5;28;01mreturn\u001b[39;00m forward_call(\u001b[38;5;241m*\u001b[39margs, \u001b[38;5;241m*\u001b[39m\u001b[38;5;241m*\u001b[39mkwargs)\n\u001b[0;32m   1522\u001b[0m \u001b[38;5;28;01mtry\u001b[39;00m:\n\u001b[0;32m   1523\u001b[0m     result \u001b[38;5;241m=\u001b[39m \u001b[38;5;28;01mNone\u001b[39;00m\n",
      "File \u001b[1;32m~\\anaconda3\\Lib\\site-packages\\torch\\nn\\modules\\loss.py:1179\u001b[0m, in \u001b[0;36mCrossEntropyLoss.forward\u001b[1;34m(self, input, target)\u001b[0m\n\u001b[0;32m   1178\u001b[0m \u001b[38;5;28;01mdef\u001b[39;00m \u001b[38;5;21mforward\u001b[39m(\u001b[38;5;28mself\u001b[39m, \u001b[38;5;28minput\u001b[39m: Tensor, target: Tensor) \u001b[38;5;241m-\u001b[39m\u001b[38;5;241m>\u001b[39m Tensor:\n\u001b[1;32m-> 1179\u001b[0m     \u001b[38;5;28;01mreturn\u001b[39;00m F\u001b[38;5;241m.\u001b[39mcross_entropy(\u001b[38;5;28minput\u001b[39m, target, weight\u001b[38;5;241m=\u001b[39m\u001b[38;5;28mself\u001b[39m\u001b[38;5;241m.\u001b[39mweight,\n\u001b[0;32m   1180\u001b[0m                            ignore_index\u001b[38;5;241m=\u001b[39m\u001b[38;5;28mself\u001b[39m\u001b[38;5;241m.\u001b[39mignore_index, reduction\u001b[38;5;241m=\u001b[39m\u001b[38;5;28mself\u001b[39m\u001b[38;5;241m.\u001b[39mreduction,\n\u001b[0;32m   1181\u001b[0m                            label_smoothing\u001b[38;5;241m=\u001b[39m\u001b[38;5;28mself\u001b[39m\u001b[38;5;241m.\u001b[39mlabel_smoothing)\n",
      "File \u001b[1;32m~\\anaconda3\\Lib\\site-packages\\torch\\nn\\functional.py:3059\u001b[0m, in \u001b[0;36mcross_entropy\u001b[1;34m(input, target, weight, size_average, ignore_index, reduce, reduction, label_smoothing)\u001b[0m\n\u001b[0;32m   3057\u001b[0m \u001b[38;5;28;01mif\u001b[39;00m size_average \u001b[38;5;129;01mis\u001b[39;00m \u001b[38;5;129;01mnot\u001b[39;00m \u001b[38;5;28;01mNone\u001b[39;00m \u001b[38;5;129;01mor\u001b[39;00m reduce \u001b[38;5;129;01mis\u001b[39;00m \u001b[38;5;129;01mnot\u001b[39;00m \u001b[38;5;28;01mNone\u001b[39;00m:\n\u001b[0;32m   3058\u001b[0m     reduction \u001b[38;5;241m=\u001b[39m _Reduction\u001b[38;5;241m.\u001b[39mlegacy_get_string(size_average, reduce)\n\u001b[1;32m-> 3059\u001b[0m \u001b[38;5;28;01mreturn\u001b[39;00m torch\u001b[38;5;241m.\u001b[39m_C\u001b[38;5;241m.\u001b[39m_nn\u001b[38;5;241m.\u001b[39mcross_entropy_loss(\u001b[38;5;28minput\u001b[39m, target, weight, _Reduction\u001b[38;5;241m.\u001b[39mget_enum(reduction), ignore_index, label_smoothing)\n",
      "\u001b[1;31mIndexError\u001b[0m: Target 12564 is out of bounds."
     ]
    }
   ],
   "source": [
    "# Создаём объекс нашего собственного класса нейросети и закидываем на видеокарту\n",
    "my_first_nn = MyFirstArchiectureNN().to(device)\n",
    "# Выбираем функцию потерь (вроде как CrossEntropy хороша для задач классификации)\n",
    "criterion = nn.CrossEntropyLoss().to(device)\n",
    "# Выбираем оптимизатор Adam, т.к. современный и активно используется\n",
    "optimizer = torch.optim.Adam(my_first_nn.parameters(), lr=0.001)\n",
    "\n",
    "train_losses = []\n",
    "valid_losses = []\n",
    "num_epochs = 3 # Для пробы взял немного эпох\n",
    "\n",
    "#os.environ['PYTORCH_CUDA_ALLOC_CONF'] = 'max_split_size_mb=5'\n",
    "#os.environ['CUDA_LAUNCH_BLOCKING'] = '1'\n",
    "\n",
    "for epoch in range(num_epochs):\n",
    "    for batch, labels in train_dataloader:\n",
    "        #print(batch.shape)\n",
    "        #print(labels.shape)\n",
    "        # Закидываем наши данные на видеокарту\n",
    "        batch, labels = batch.to(device), labels.to(device)\n",
    "        my_first_nn.train()\n",
    "        batch = batch.to(device)\n",
    "        labels = labels.to(device)\n",
    "        optimizer.zero_grad()\n",
    "        outputs = my_first_nn(batch.float())\n",
    "        loss = criterion(outputs, labels)\n",
    "        loss.backward()\n",
    "        optimizer.step()\n",
    "        train_loss += loss.item()\n",
    "    print(f'Epoch [{epoch+1}/{num_epochs}], Loss = {loss.item():.4f}')\n",
    "    \n",
    "    my_first_nn.eval()\n",
    "    valid_loss = 0.0\n",
    "    with torch.no_grad():\n",
    "        for batch, labels in valid_dataloader:\n",
    "            outputs = my_first_nn(batch)\n",
    "            loss = criterion(outputs, labels)\n",
    "            valid_loss += loss.item()\n",
    "    print(f'Valid loss = {loss.item():.4f}')\n",
    "    \n",
    "    train_losses.append(train_loss / len(train_dataloader))\n",
    "    valid_losses.append(valid_loss / len(valid_dataloader))\n",
    "    \n",
    "print('Training is finished')\n",
    "\n",
    "torch.save(my_first_nn.state_dict(), 'my_first_bird_classifier.pth')\n"
   ]
  },
  {
   "cell_type": "code",
   "execution_count": null,
   "id": "81914831",
   "metadata": {},
   "outputs": [],
   "source": [
    "# Вывод массивов значений потерь\n",
    "print(f'Training Losses: {losses}')\n",
    "print(f'Validation Losses: {valid_losses}')"
   ]
  },
  {
   "cell_type": "code",
   "execution_count": null,
   "id": "54d96dfa",
   "metadata": {},
   "outputs": [],
   "source": [
    "my_model = MyFirstArchiectureNN()\n",
    "my_model.load_state_dict(torch.load('my_first_bird_classifier.pth'))"
   ]
  },
  {
   "cell_type": "markdown",
   "id": "555420f4",
   "metadata": {},
   "source": [
    "5) Обучить или дообучить одну из моделей, включенных в torchvision\n",
    "например, ResNet (модели можно посмотреть тут\n",
    "https: pytorch.org/vision/stable/models.html) - 4 балла"
   ]
  },
  {
   "cell_type": "code",
   "execution_count": null,
   "id": "b5f05faa",
   "metadata": {},
   "outputs": [],
   "source": []
  },
  {
   "cell_type": "code",
   "execution_count": null,
   "id": "74006372",
   "metadata": {},
   "outputs": [],
   "source": []
  },
  {
   "cell_type": "markdown",
   "id": "22574046",
   "metadata": {},
   "source": [
    "6) Дать комментарии по результатам 3-5 пунктов, отрисовать графики -\n",
    "3 балла"
   ]
  }
 ],
 "metadata": {
  "kernelspec": {
   "display_name": "Python 3 (ipykernel)",
   "language": "python",
   "name": "python3"
  },
  "language_info": {
   "codemirror_mode": {
    "name": "ipython",
    "version": 3
   },
   "file_extension": ".py",
   "mimetype": "text/x-python",
   "name": "python",
   "nbconvert_exporter": "python",
   "pygments_lexer": "ipython3",
   "version": "3.11.5"
  }
 },
 "nbformat": 4,
 "nbformat_minor": 5
}
