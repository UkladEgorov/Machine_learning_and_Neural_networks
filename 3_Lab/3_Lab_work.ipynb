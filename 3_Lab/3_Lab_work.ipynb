{
 "cells": [
  {
   "cell_type": "code",
   "execution_count": 57,
   "id": "3fc66e28",
   "metadata": {},
   "outputs": [],
   "source": [
    "import numpy as np\n",
    "import pandas as pd\n",
    "import matplotlib.pyplot as plt\n",
    "import seaborn as sns\n",
    "from PIL import Image\n",
    "import os\n",
    "import torch\n",
    "from torch.utils.data import DataLoader\n",
    "from torch.utils.data import Dataset\n",
    "import torch.nn as nn\n",
    "import torch.nn.functional as F\n",
    "from torchvision.transforms import functional\n",
    "from torchvision.transforms import Compose, Resize, ToTensor, Normalize\n",
    "from torchvision.io import read_image\n",
    "from torchvision.io import read_image"
   ]
  },
  {
   "cell_type": "markdown",
   "id": "89319a5f",
   "metadata": {},
   "source": [
    "1) Выбрать задачу по классификации изображений, загрузить данные,\n",
    "провести анализ (распределение классов, особенности данных и т.д.) -\n",
    "2 балла"
   ]
  },
  {
   "cell_type": "markdown",
   "id": "688f3fd1",
   "metadata": {},
   "source": [
    "Мною была выбрана задача классификации птиц: https: .kaggle.com/competitions/sp23-bird-classif-cation-osu-ai-cl-ub/"
   ]
  },
  {
   "cell_type": "code",
   "execution_count": 2,
   "id": "7d56aa51",
   "metadata": {},
   "outputs": [
    {
     "data": {
      "text/html": [
       "<div>\n",
       "<style scoped>\n",
       "    .dataframe tbody tr th:only-of-type {\n",
       "        vertical-align: middle;\n",
       "    }\n",
       "\n",
       "    .dataframe tbody tr th {\n",
       "        vertical-align: top;\n",
       "    }\n",
       "\n",
       "    .dataframe thead th {\n",
       "        text-align: right;\n",
       "    }\n",
       "</style>\n",
       "<table border=\"1\" class=\"dataframe\">\n",
       "  <thead>\n",
       "    <tr style=\"text-align: right;\">\n",
       "      <th></th>\n",
       "      <th>image_id</th>\n",
       "      <th>class_id</th>\n",
       "      <th>filepaths</th>\n",
       "      <th>labels</th>\n",
       "      <th>scientific_label</th>\n",
       "      <th>data_set</th>\n",
       "    </tr>\n",
       "  </thead>\n",
       "  <tbody>\n",
       "    <tr>\n",
       "      <th>0</th>\n",
       "      <td>0</td>\n",
       "      <td>0</td>\n",
       "      <td>train/ABBOTTS BABBLER/001.jpg</td>\n",
       "      <td>ABBOTTS BABBLER</td>\n",
       "      <td>Malacocincla abbotti</td>\n",
       "      <td>train</td>\n",
       "    </tr>\n",
       "    <tr>\n",
       "      <th>1</th>\n",
       "      <td>1</td>\n",
       "      <td>0</td>\n",
       "      <td>train/ABBOTTS BABBLER/002.jpg</td>\n",
       "      <td>ABBOTTS BABBLER</td>\n",
       "      <td>Malacocincla abbotti</td>\n",
       "      <td>train</td>\n",
       "    </tr>\n",
       "    <tr>\n",
       "      <th>2</th>\n",
       "      <td>2</td>\n",
       "      <td>0</td>\n",
       "      <td>train/ABBOTTS BABBLER/003.jpg</td>\n",
       "      <td>ABBOTTS BABBLER</td>\n",
       "      <td>Malacocincla abbotti</td>\n",
       "      <td>train</td>\n",
       "    </tr>\n",
       "    <tr>\n",
       "      <th>3</th>\n",
       "      <td>3</td>\n",
       "      <td>0</td>\n",
       "      <td>train/ABBOTTS BABBLER/004.jpg</td>\n",
       "      <td>ABBOTTS BABBLER</td>\n",
       "      <td>Malacocincla abbotti</td>\n",
       "      <td>train</td>\n",
       "    </tr>\n",
       "    <tr>\n",
       "      <th>4</th>\n",
       "      <td>4</td>\n",
       "      <td>0</td>\n",
       "      <td>train/ABBOTTS BABBLER/005.jpg</td>\n",
       "      <td>ABBOTTS BABBLER</td>\n",
       "      <td>Malacocincla abbotti</td>\n",
       "      <td>train</td>\n",
       "    </tr>\n",
       "    <tr>\n",
       "      <th>...</th>\n",
       "      <td>...</td>\n",
       "      <td>...</td>\n",
       "      <td>...</td>\n",
       "      <td>...</td>\n",
       "      <td>...</td>\n",
       "      <td>...</td>\n",
       "    </tr>\n",
       "    <tr>\n",
       "      <th>72871</th>\n",
       "      <td>72871</td>\n",
       "      <td>449</td>\n",
       "      <td>valid/YELLOW HEADED BLACKBIRD/1.jpg</td>\n",
       "      <td>YELLOW HEADED BLACKBIRD</td>\n",
       "      <td>Xanthocephalus</td>\n",
       "      <td>valid</td>\n",
       "    </tr>\n",
       "    <tr>\n",
       "      <th>72872</th>\n",
       "      <td>72872</td>\n",
       "      <td>449</td>\n",
       "      <td>valid/YELLOW HEADED BLACKBIRD/2.jpg</td>\n",
       "      <td>YELLOW HEADED BLACKBIRD</td>\n",
       "      <td>Xanthocephalus</td>\n",
       "      <td>valid</td>\n",
       "    </tr>\n",
       "    <tr>\n",
       "      <th>72873</th>\n",
       "      <td>72873</td>\n",
       "      <td>449</td>\n",
       "      <td>valid/YELLOW HEADED BLACKBIRD/3.jpg</td>\n",
       "      <td>YELLOW HEADED BLACKBIRD</td>\n",
       "      <td>Xanthocephalus</td>\n",
       "      <td>valid</td>\n",
       "    </tr>\n",
       "    <tr>\n",
       "      <th>72874</th>\n",
       "      <td>72874</td>\n",
       "      <td>449</td>\n",
       "      <td>valid/YELLOW HEADED BLACKBIRD/4.jpg</td>\n",
       "      <td>YELLOW HEADED BLACKBIRD</td>\n",
       "      <td>Xanthocephalus</td>\n",
       "      <td>valid</td>\n",
       "    </tr>\n",
       "    <tr>\n",
       "      <th>72875</th>\n",
       "      <td>72875</td>\n",
       "      <td>449</td>\n",
       "      <td>valid/YELLOW HEADED BLACKBIRD/5.jpg</td>\n",
       "      <td>YELLOW HEADED BLACKBIRD</td>\n",
       "      <td>Xanthocephalus</td>\n",
       "      <td>valid</td>\n",
       "    </tr>\n",
       "  </tbody>\n",
       "</table>\n",
       "<p>72876 rows × 6 columns</p>\n",
       "</div>"
      ],
      "text/plain": [
       "       image_id  class_id                            filepaths  \\\n",
       "0             0         0        train/ABBOTTS BABBLER/001.jpg   \n",
       "1             1         0        train/ABBOTTS BABBLER/002.jpg   \n",
       "2             2         0        train/ABBOTTS BABBLER/003.jpg   \n",
       "3             3         0        train/ABBOTTS BABBLER/004.jpg   \n",
       "4             4         0        train/ABBOTTS BABBLER/005.jpg   \n",
       "...         ...       ...                                  ...   \n",
       "72871     72871       449  valid/YELLOW HEADED BLACKBIRD/1.jpg   \n",
       "72872     72872       449  valid/YELLOW HEADED BLACKBIRD/2.jpg   \n",
       "72873     72873       449  valid/YELLOW HEADED BLACKBIRD/3.jpg   \n",
       "72874     72874       449  valid/YELLOW HEADED BLACKBIRD/4.jpg   \n",
       "72875     72875       449  valid/YELLOW HEADED BLACKBIRD/5.jpg   \n",
       "\n",
       "                        labels      scientific_label data_set  \n",
       "0              ABBOTTS BABBLER  Malacocincla abbotti    train  \n",
       "1              ABBOTTS BABBLER  Malacocincla abbotti    train  \n",
       "2              ABBOTTS BABBLER  Malacocincla abbotti    train  \n",
       "3              ABBOTTS BABBLER  Malacocincla abbotti    train  \n",
       "4              ABBOTTS BABBLER  Malacocincla abbotti    train  \n",
       "...                        ...                   ...      ...  \n",
       "72871  YELLOW HEADED BLACKBIRD        Xanthocephalus    valid  \n",
       "72872  YELLOW HEADED BLACKBIRD        Xanthocephalus    valid  \n",
       "72873  YELLOW HEADED BLACKBIRD        Xanthocephalus    valid  \n",
       "72874  YELLOW HEADED BLACKBIRD        Xanthocephalus    valid  \n",
       "72875  YELLOW HEADED BLACKBIRD        Xanthocephalus    valid  \n",
       "\n",
       "[72876 rows x 6 columns]"
      ]
     },
     "execution_count": 2,
     "metadata": {},
     "output_type": "execute_result"
    }
   ],
   "source": [
    " # Для проверки будет удобно записать в переменную path свой path - код будет работать\n",
    "path = '/media/egor/Windows/Users/Egor/Documents/Files/Учёба/ML_and_DL_Digital_department/3_Lab/'\n",
    "df = pd.read_csv(f'{path}birds.csv')\n",
    "df"
   ]
  },
  {
   "cell_type": "code",
   "execution_count": 12,
   "id": "a6875205",
   "metadata": {},
   "outputs": [
    {
     "name": "stdout",
     "output_type": "stream",
     "text": [
      "count     72876\n",
      "unique      450\n",
      "top         262\n",
      "freq        253\n",
      "Name: class_id, dtype: object\n",
      "count     70626\n",
      "unique      450\n",
      "top         262\n",
      "freq        248\n",
      "Name: class_id, dtype: object\n",
      "count     2250\n",
      "unique     450\n",
      "top        304\n",
      "freq         5\n",
      "Name: class_id, dtype: object\n"
     ]
    }
   ],
   "source": [
    "df['class_id'] = df['class_id'].apply(str)\n",
    "df_train = df[df['data_set'] == 'train']\n",
    "df_valid = df[df['data_set'] == 'valid']\n",
    "print(df['class_id'].describe())\n",
    "print(df_train['class_id'].describe())\n",
    "print(df_valid['class_id'].describe())"
   ]
  },
  {
   "cell_type": "code",
   "execution_count": 13,
   "id": "a0a13aa0",
   "metadata": {},
   "outputs": [
    {
     "name": "stdout",
     "output_type": "stream",
     "text": [
      "count           72876\n",
      "unique            450\n",
      "top       HOUSE FINCH\n",
      "freq              253\n",
      "Name: labels, dtype: object\n",
      "count           70626\n",
      "unique            450\n",
      "top       HOUSE FINCH\n",
      "freq              248\n",
      "Name: labels, dtype: object\n",
      "count     2250\n",
      "unique     450\n",
      "top       MYNA\n",
      "freq         5\n",
      "Name: labels, dtype: object\n"
     ]
    }
   ],
   "source": [
    "print(df['labels'].describe())\n",
    "print(df_train['labels'].describe())\n",
    "print(df_valid['labels'].describe())\n",
    "# Видим, что class_id и labels совпадают - с датасетом всё хорошо."
   ]
  },
  {
   "cell_type": "code",
   "execution_count": 14,
   "id": "76a1e052",
   "metadata": {},
   "outputs": [
    {
     "data": {
      "text/plain": [
       "count                   72876\n",
       "unique                    447\n",
       "top       Psittacula eupatria\n",
       "freq                      354\n",
       "Name: scientific_label, dtype: object"
      ]
     },
     "execution_count": 14,
     "metadata": {},
     "output_type": "execute_result"
    }
   ],
   "source": [
    "df['scientific_label'].describe()\n",
    "# У нас 447 видов птиц (по видимому есть несколько морф, которые относятся к одному виду),\n",
    "# самый распостранённый класс Александров кольчатый попугай (зелёненький такой)\n",
    "# У него 354 изображения, что составляет ~0,5%,\n",
    "# что в ~2 раза больше, чем среднее количество фотографий 72676/447 = 163 на класс.\n",
    "# Тем не менее, т.к. у нас очень много классов, то можно считать датасет сбалансированным по классам.\n",
    "# Т.к. превышение 1 класса из 447 в 2 раза выше среднего - не является чем-то критичным."
   ]
  },
  {
   "cell_type": "code",
   "execution_count": 15,
   "id": "bcb9c74f",
   "metadata": {
    "scrolled": true
   },
   "outputs": [
    {
     "data": {
      "text/plain": [
       "count     72876\n",
       "unique        2\n",
       "top       train\n",
       "freq      70626\n",
       "Name: data_set, dtype: object"
      ]
     },
     "execution_count": 15,
     "metadata": {},
     "output_type": "execute_result"
    }
   ],
   "source": [
    "df['data_set'].describe()\n",
    "# Видим, что 97% набора являются тренирововчным, и только 3 отданы на валидацию."
   ]
  },
  {
   "cell_type": "code",
   "execution_count": 4,
   "id": "1e049165",
   "metadata": {},
   "outputs": [
    {
     "data": {
      "text/html": [
       "<div>\n",
       "<style scoped>\n",
       "    .dataframe tbody tr th:only-of-type {\n",
       "        vertical-align: middle;\n",
       "    }\n",
       "\n",
       "    .dataframe tbody tr th {\n",
       "        vertical-align: top;\n",
       "    }\n",
       "\n",
       "    .dataframe thead th {\n",
       "        text-align: right;\n",
       "    }\n",
       "</style>\n",
       "<table border=\"1\" class=\"dataframe\">\n",
       "  <thead>\n",
       "    <tr style=\"text-align: right;\">\n",
       "      <th></th>\n",
       "      <th>image_id</th>\n",
       "      <th>class_id</th>\n",
       "    </tr>\n",
       "  </thead>\n",
       "  <tbody>\n",
       "    <tr>\n",
       "      <th>0</th>\n",
       "      <td>72876</td>\n",
       "      <td>427</td>\n",
       "    </tr>\n",
       "    <tr>\n",
       "      <th>1</th>\n",
       "      <td>72877</td>\n",
       "      <td>188</td>\n",
       "    </tr>\n",
       "    <tr>\n",
       "      <th>2</th>\n",
       "      <td>72878</td>\n",
       "      <td>142</td>\n",
       "    </tr>\n",
       "    <tr>\n",
       "      <th>3</th>\n",
       "      <td>72879</td>\n",
       "      <td>413</td>\n",
       "    </tr>\n",
       "    <tr>\n",
       "      <th>4</th>\n",
       "      <td>72880</td>\n",
       "      <td>371</td>\n",
       "    </tr>\n",
       "    <tr>\n",
       "      <th>...</th>\n",
       "      <td>...</td>\n",
       "      <td>...</td>\n",
       "    </tr>\n",
       "    <tr>\n",
       "      <th>2245</th>\n",
       "      <td>75121</td>\n",
       "      <td>167</td>\n",
       "    </tr>\n",
       "    <tr>\n",
       "      <th>2246</th>\n",
       "      <td>75122</td>\n",
       "      <td>373</td>\n",
       "    </tr>\n",
       "    <tr>\n",
       "      <th>2247</th>\n",
       "      <td>75123</td>\n",
       "      <td>277</td>\n",
       "    </tr>\n",
       "    <tr>\n",
       "      <th>2248</th>\n",
       "      <td>75124</td>\n",
       "      <td>126</td>\n",
       "    </tr>\n",
       "    <tr>\n",
       "      <th>2249</th>\n",
       "      <td>75125</td>\n",
       "      <td>284</td>\n",
       "    </tr>\n",
       "  </tbody>\n",
       "</table>\n",
       "<p>2250 rows × 2 columns</p>\n",
       "</div>"
      ],
      "text/plain": [
       "      image_id  class_id\n",
       "0        72876       427\n",
       "1        72877       188\n",
       "2        72878       142\n",
       "3        72879       413\n",
       "4        72880       371\n",
       "...        ...       ...\n",
       "2245     75121       167\n",
       "2246     75122       373\n",
       "2247     75123       277\n",
       "2248     75124       126\n",
       "2249     75125       284\n",
       "\n",
       "[2250 rows x 2 columns]"
      ]
     },
     "execution_count": 4,
     "metadata": {},
     "output_type": "execute_result"
    }
   ],
   "source": [
    "df_test = pd.read_csv(f'{path}sample_solution.csv')\n",
    "df_test"
   ]
  },
  {
   "cell_type": "code",
   "execution_count": 5,
   "id": "0733f8e2",
   "metadata": {},
   "outputs": [
    {
     "data": {
      "text/plain": [
       "count     2250\n",
       "unique     445\n",
       "top        318\n",
       "freq        12\n",
       "Name: class_id, dtype: object"
      ]
     },
     "execution_count": 5,
     "metadata": {},
     "output_type": "execute_result"
    }
   ],
   "source": [
    "df_test['class_id'] = df_test['class_id'].apply(str)\n",
    "df_test['class_id'].describe()\n",
    "# В папке test находится ~3% от общего количества изображений\n",
    "# Из 450 классов тренировочного набора присутствует 445 классов,\n",
    "# т.е. 5 классов не предствалены в тестовом наборе"
   ]
  },
  {
   "cell_type": "markdown",
   "id": "880be653",
   "metadata": {},
   "source": [
    "2) Написать класс для датасета, наследуемый от PyTorch Dataset, в\n",
    "котором реализовать init, len, getitem методы - 3 балла"
   ]
  },
  {
   "cell_type": "code",
   "execution_count": 23,
   "id": "1b4de1ad",
   "metadata": {},
   "outputs": [],
   "source": [
    "class Birds(Dataset):\n",
    "    \n",
    "    def __init__(self, path, annotation, transform = None, target_transform = None):\n",
    "        self.img_labels = annotation['image_id']\n",
    "        self.img_class = annotation['class_id']\n",
    "        self.data_dir = path\n",
    "        self.img_dir = annotation['filepaths']\n",
    "        self.transform = transform\n",
    "        self.target_transform = target_transform\n",
    "\n",
    "    def __len__(self):\n",
    "        return len(self.img_labels)\n",
    "\n",
    "    def __getitem__(self, idx):\n",
    "        img_path = str(self.data_dir + self.img_dir[idx])\n",
    "        image = read_image(img_path)\n",
    "        label = self.img_class.loc[idx] \n",
    "        #label = self.img_class[idx]\n",
    "        if self.transform:\n",
    "            image = self.transform(image)\n",
    "        if self.target_transform:\n",
    "            label = self.target_transform(label)\n",
    "        return image, label\n",
    "    "
   ]
  },
  {
   "cell_type": "markdown",
   "id": "fa564a34",
   "metadata": {},
   "source": [
    "3) Поместить датасет в dataloader, разбив на батчи - 3 балла"
   ]
  },
  {
   "cell_type": "code",
   "execution_count": 4,
   "id": "6760396d",
   "metadata": {},
   "outputs": [],
   "source": [
    "# Т.к. оказалось, не все изображения данного размера\n",
    "transform = Compose([Resize((224, 224))])\n",
    "\n",
    "df['class_id'] = df['class_id'].apply(int)\n",
    "df_train = df[df['data_set'] == 'train']\n",
    "df_valid = df[df['data_set'] == 'valid']\n",
    "# Без реиндексации DataLoader не может использовать метод get_item\n",
    "df_valid.reset_index(drop=True, inplace=True)\n",
    "\n",
    "train_data = Birds(path, df_train, transform=transform)\n",
    "train_dataloader = DataLoader(train_data, batch_size=100, shuffle=True, drop_last=True)\n",
    "valid_data = Birds(path, df_valid, transform=transform)\n",
    "valid_dataloader = DataLoader(valid_data, batch_size=100, shuffle=False, drop_last=True)"
   ]
  },
  {
   "cell_type": "code",
   "execution_count": 102,
   "id": "ed80e44a",
   "metadata": {},
   "outputs": [
    {
     "name": "stdout",
     "output_type": "stream",
     "text": [
      "torch.Size([100, 3, 224, 224])\n",
      "torch.Size([3, 224, 224])\n",
      "<class 'torch.Tensor'>\n",
      "<class 'numpy.ndarray'>\n",
      "<class 'PIL.Image.Image'>\n",
      "torch.Size([100, 3, 224, 224])\n"
     ]
    }
   ],
   "source": [
    "# Выбор одного случайного изображения\n",
    "for img, label in train_dataloader:\n",
    "    break\n",
    "print(img.shape)\n",
    "print(img[0].shape)\n",
    "# Переворачиваем порядок измерений из (channels, height, width) в (height, width, channels)\n",
    "img = img[0].permute(1, 2, 0)\n",
    "print(type(img))\n",
    "# Преобразуем тензор в массив numpy\n",
    "img_np = img.numpy()\n",
    "img = (img * 255).byte()\n",
    "print(type(img_np))\n",
    "# Создаем изображение с помощью PIL\n",
    "img_pil = Image.fromarray(img_np)\n",
    "print(type(img_pil))\n",
    "\n",
    "#img_pil.show()\n",
    "# Изначальный размер изображения batch*3*224*224\n",
    "for img, label in valid_dataloader:\n",
    "    break\n",
    "print(img.shape)"
   ]
  },
  {
   "cell_type": "raw",
   "id": "e6a603fe",
   "metadata": {},
   "source": [
    "# Display image and label.\n",
    "train_features, train_labels = next(iter(train_dataloader))\n",
    "print(f\"Feature batch shape: {train_features.size()}\")\n",
    "print(f\"Labels batch shape: {train_labels.size()}\")\n",
    "img = train_features[0].squeeze().permute(1, 2, 0)\n",
    "label = train_labels[0]\n",
    "plt.imshow(img, cmap=\"gray\")\n",
    "plt.show()\n",
    "print(f\"Label: {label}\")"
   ]
  },
  {
   "cell_type": "markdown",
   "id": "79b50569",
   "metadata": {},
   "source": [
    "4) Обучить модель, состоящую из полносвязных слоёв или обучить модель,\n",
    "состоящую из сверточных и полносвязных слоев (например, Conv -\n",
    "Pooling - Conv - Linear - Linear) - 5 баллов"
   ]
  },
  {
   "cell_type": "markdown",
   "id": "4b9d545b",
   "metadata": {},
   "source": [
    "Решил попробовать немного другую архитектуру:\n",
    "Conv - Pooling - Conv - Pooling - Conv - Pooling - Linear - Linear"
   ]
  },
  {
   "cell_type": "code",
   "execution_count": 21,
   "id": "4e84e233",
   "metadata": {},
   "outputs": [],
   "source": [
    "class MyFirstArchiectureNN(nn.Module):\n",
    "    # Изначально мой батч размерности batch*3*224*224\n",
    "    def __init__(self):\n",
    "        super(MyFirstArchiectureNN, self).__init__()\n",
    "        self.conv1 = nn.Conv2d(in_channels=3, out_channels=6, kernel_size=5, stride=1, padding=1)\n",
    "        # Теперь он свёрнут до batch*6*222*222\n",
    "        self.pool1 = nn.MaxPool2d(3, stride=2)\n",
    "        # Pooling уменьшил размерность в 2 раза batch*6*110*110\n",
    "        self.conv2 = nn.Conv2d(in_channels=6, out_channels=12, kernel_size=10, stride=1, padding=1)\n",
    "        # Теперь он свёрнут до batch*12*103*103\n",
    "        self.pool2 = nn.MaxPool2d(2, stride=3)\n",
    "        # Теперь он свёрнут до batch*12*51*51\n",
    "        self.conv3 = nn.Conv2d(in_channels=12, out_channels=24, kernel_size=20, stride=1, padding=1)\n",
    "        # Теперь он свёрнут до batch*24*34*34\n",
    "        self.pool3 = nn.MaxPool2d(2, stride=3)\n",
    "        \n",
    "        self.linear1 = nn.Linear(24*6*6, 512)\n",
    "        # Теперь свёрнут до 1*\n",
    "        self.linear2 = nn.Linear(512, 450)\n",
    "        #Сворачиваем до 450 (сколько целевых классов)\n",
    "\n",
    "    def forward(self, input):\n",
    "        output = F.relu(self.conv1(input))\n",
    "        #print(output.shape)\n",
    "        output = self.pool1(output)\n",
    "        #print(output.shape)\n",
    "        output = F.relu(self.conv2(output))\n",
    "        #print(output.shape)\n",
    "        output = self.pool2(output)\n",
    "        #print(output.shape)\n",
    "        output = F.relu(self.conv3(output))\n",
    "        #print(output.shape)\n",
    "        output = self.pool3(output)\n",
    "        #print(output.shape)\n",
    "        output = output.view(output.size(0), 24*6*6)\n",
    "        output = F.relu(self.linear1(output))\n",
    "        #print(output.shape)\n",
    "        output = self.linear2(output)\n",
    "        #print(output.shape)\n",
    "        #print('Forward finished')\n",
    "        return output"
   ]
  },
  {
   "cell_type": "code",
   "execution_count": 15,
   "id": "76167f34",
   "metadata": {},
   "outputs": [
    {
     "name": "stdout",
     "output_type": "stream",
     "text": [
      "Доступно устройств GPU: 1\n",
      "Устройство 0: NVIDIA GeForce RTX 3060 Laptop GPU\n",
      "cuda:0\n"
     ]
    }
   ],
   "source": [
    "device_count = torch.cuda.device_count()\n",
    "print(f\"Доступно устройств GPU: {device_count}\")\n",
    "\n",
    "for i in range(device_count):\n",
    "    device_name = torch.cuda.get_device_name(i)\n",
    "    print(f\"Устройство {i}: {device_name}\")\n",
    "\n",
    "# Определяем устройство для обучения\n",
    "device = torch.device('cuda:0' if torch.cuda.is_available() else 'cpu')\n",
    "#device = 'cpu'\n",
    "print(device)"
   ]
  },
  {
   "cell_type": "code",
   "execution_count": 111,
   "id": "052682ff",
   "metadata": {
    "scrolled": false
   },
   "outputs": [
    {
     "name": "stdout",
     "output_type": "stream",
     "text": [
      "Epoch [1/10], Loss = 4.8150\n",
      "Valid loss = 4.4078\n",
      "Epoch [2/10], Loss = 4.5833\n",
      "Valid loss = 3.7284\n",
      "Epoch [3/10], Loss = 3.5935\n",
      "Valid loss = 3.4882\n",
      "Epoch [4/10], Loss = 3.5656\n",
      "Valid loss = 3.3240\n",
      "Epoch [5/10], Loss = 3.3632\n",
      "Valid loss = 3.5474\n",
      "Epoch [6/10], Loss = 2.5787\n",
      "Valid loss = 3.6479\n",
      "Epoch [7/10], Loss = 2.5133\n",
      "Valid loss = 4.0713\n",
      "Epoch [8/10], Loss = 2.2098\n",
      "Valid loss = 4.2945\n",
      "Epoch [9/10], Loss = 2.3371\n",
      "Valid loss = 4.7086\n",
      "Epoch [10/10], Loss = 1.8018\n",
      "Valid loss = 4.7451\n",
      "Training is finished\n"
     ]
    }
   ],
   "source": [
    "# Создаём объекс нашего собственного класса нейросети и закидываем на видеокарту\n",
    "my_first_nn = MyFirstArchiectureNN().to(device)\n",
    "# Выбираем функцию потерь (вроде как CrossEntropy хороша для задач классификации)\n",
    "criterion = nn.CrossEntropyLoss().to(device)\n",
    "# Выбираем оптимизатор Adam, т.к. современный и активно используется\n",
    "optimizer = torch.optim.Adam(my_first_nn.parameters(), lr=0.001)\n",
    "\n",
    "train_losses = []\n",
    "valid_losses = []\n",
    "num_epochs = 10 # Для пробы взял немного эпох\n",
    "\n",
    "#os.environ['PYTORCH_CUDA_ALLOC_CONF'] = 'max_split_size_mb=5'\n",
    "#os.environ['CUDA_LAUNCH_BLOCKING'] = '1'\n",
    "\n",
    "for epoch in range(num_epochs):\n",
    "    train_loss = 0.0\n",
    "    for batch, labels in train_dataloader:\n",
    "        #print(batch.shape)\n",
    "        #print(labels.shape)\n",
    "        # Закидываем наши данные на видеокарту\n",
    "        batch, labels = batch.to(device), labels.to(device)\n",
    "        my_first_nn.train()\n",
    "        batch = batch.to(device)\n",
    "        labels = labels.to(device)\n",
    "        optimizer.zero_grad()\n",
    "        outputs = my_first_nn(batch.float())\n",
    "        loss = criterion(outputs, labels)\n",
    "        loss.backward()\n",
    "        optimizer.step()\n",
    "        train_loss += loss.item()\n",
    "    print(f'Epoch [{epoch+1}/{num_epochs}], Loss = {loss.item():.4f}')\n",
    "    \n",
    "    my_first_nn.eval()\n",
    "    valid_loss = 0.0\n",
    "    with torch.no_grad():\n",
    "        for batch, labels in valid_dataloader:\n",
    "            batch, labels = batch.to(device), labels.to(device)\n",
    "            outputs = my_first_nn(batch.float())\n",
    "            loss = criterion(outputs, labels)\n",
    "            valid_loss += loss.item()\n",
    "    print(f'Valid loss = {loss.item():.4f}')\n",
    "    \n",
    "    train_losses.append(train_loss / len(train_dataloader))\n",
    "    valid_losses.append(valid_loss / len(valid_dataloader))\n",
    "    \n",
    "print('Training is finished')\n",
    "\n",
    "torch.save(my_first_nn.state_dict(), 'my_first_bird_classifier.pth')\n",
    "combined_list = list(zip(train_losses, valid_losses))\n",
    "losses = pd.DataFrame(combined_list, columns=['train_loss', 'valid_loss'])\n",
    "losses.to_csv('Losses_10_epoch.csv', index=False)"
   ]
  },
  {
   "cell_type": "code",
   "execution_count": 113,
   "id": "fae9923d",
   "metadata": {},
   "outputs": [
    {
     "data": {
      "text/html": [
       "<div>\n",
       "<style scoped>\n",
       "    .dataframe tbody tr th:only-of-type {\n",
       "        vertical-align: middle;\n",
       "    }\n",
       "\n",
       "    .dataframe tbody tr th {\n",
       "        vertical-align: top;\n",
       "    }\n",
       "\n",
       "    .dataframe thead th {\n",
       "        text-align: right;\n",
       "    }\n",
       "</style>\n",
       "<table border=\"1\" class=\"dataframe\">\n",
       "  <thead>\n",
       "    <tr style=\"text-align: right;\">\n",
       "      <th></th>\n",
       "      <th>train_loss</th>\n",
       "      <th>valid_loss</th>\n",
       "    </tr>\n",
       "  </thead>\n",
       "  <tbody>\n",
       "    <tr>\n",
       "      <th>0</th>\n",
       "      <td>5.335851</td>\n",
       "      <td>4.709277</td>\n",
       "    </tr>\n",
       "    <tr>\n",
       "      <th>1</th>\n",
       "      <td>4.545693</td>\n",
       "      <td>4.071092</td>\n",
       "    </tr>\n",
       "    <tr>\n",
       "      <th>2</th>\n",
       "      <td>4.003162</td>\n",
       "      <td>3.857585</td>\n",
       "    </tr>\n",
       "    <tr>\n",
       "      <th>3</th>\n",
       "      <td>3.541679</td>\n",
       "      <td>3.794575</td>\n",
       "    </tr>\n",
       "    <tr>\n",
       "      <th>4</th>\n",
       "      <td>3.118787</td>\n",
       "      <td>3.757665</td>\n",
       "    </tr>\n",
       "    <tr>\n",
       "      <th>5</th>\n",
       "      <td>2.772560</td>\n",
       "      <td>4.014781</td>\n",
       "    </tr>\n",
       "    <tr>\n",
       "      <th>6</th>\n",
       "      <td>2.432213</td>\n",
       "      <td>4.409506</td>\n",
       "    </tr>\n",
       "    <tr>\n",
       "      <th>7</th>\n",
       "      <td>2.146215</td>\n",
       "      <td>4.524941</td>\n",
       "    </tr>\n",
       "    <tr>\n",
       "      <th>8</th>\n",
       "      <td>1.911599</td>\n",
       "      <td>4.991146</td>\n",
       "    </tr>\n",
       "    <tr>\n",
       "      <th>9</th>\n",
       "      <td>1.704712</td>\n",
       "      <td>5.636702</td>\n",
       "    </tr>\n",
       "  </tbody>\n",
       "</table>\n",
       "</div>"
      ],
      "text/plain": [
       "   train_loss  valid_loss\n",
       "0    5.335851    4.709277\n",
       "1    4.545693    4.071092\n",
       "2    4.003162    3.857585\n",
       "3    3.541679    3.794575\n",
       "4    3.118787    3.757665\n",
       "5    2.772560    4.014781\n",
       "6    2.432213    4.409506\n",
       "7    2.146215    4.524941\n",
       "8    1.911599    4.991146\n",
       "9    1.704712    5.636702"
      ]
     },
     "execution_count": 113,
     "metadata": {},
     "output_type": "execute_result"
    }
   ],
   "source": [
    "losses"
   ]
  },
  {
   "cell_type": "code",
   "execution_count": 123,
   "id": "48c6a23e",
   "metadata": {
    "scrolled": false
   },
   "outputs": [
    {
     "data": {
      "image/png": "[encoded data removed]",
      "text/plain": [
       "<Figure size 648x432 with 1 Axes>"
      ]
     },
     "metadata": {
      "needs_background": "light"
     },
     "output_type": "display_data"
    }
   ],
   "source": [
    "f = plt.figure(figsize = (9, 6))\n",
    "colors = ['#00DD99', '#9900DD']\n",
    "sns.lineplot(data=losses, palette = colors)\n",
    "plt.grid(ls = ':')\n",
    "plt.show()\n",
    "# По графику ясно видно, что мы переобучили нейросеть.\n",
    "# Для данной архитектуры должно хватить 5 эпох "
   ]
  },
  {
   "cell_type": "markdown",
   "id": "fe08eb58",
   "metadata": {},
   "source": [
    "##### Заново обучим модель, но только 5 эпох"
   ]
  },
  {
   "cell_type": "code",
   "execution_count": 13,
   "id": "86482685",
   "metadata": {},
   "outputs": [
    {
     "name": "stdout",
     "output_type": "stream",
     "text": [
      "Epoch [1/5], Loss = 4.9852\n",
      "Valid loss = 4.3478\n",
      "Epoch [2/5], Loss = 4.2471\n",
      "Valid loss = 3.7104\n",
      "Epoch [3/5], Loss = 3.5246\n",
      "Valid loss = 3.2733\n",
      "Epoch [4/5], Loss = 2.8272\n",
      "Valid loss = 3.4031\n",
      "Epoch [5/5], Loss = 2.9884\n",
      "Valid loss = 3.3933\n",
      "Training is finished\n"
     ]
    },
    {
     "data": {
      "image/png": "[encoded data removed]",
      "text/plain": [
       "<Figure size 648x432 with 1 Axes>"
      ]
     },
     "metadata": {
      "needs_background": "light"
     },
     "output_type": "display_data"
    }
   ],
   "source": [
    "# Т.к. оказалось, не все изображения данного размера\n",
    "transform = Compose([Resize((224, 224))])\n",
    "\n",
    "df['class_id'] = df['class_id'].apply(int)\n",
    "df_train = df[df['data_set'] == 'train']\n",
    "df_valid = df[df['data_set'] == 'valid']\n",
    "# Без реиндексации DataLoader не может использовать метод get_item\n",
    "df_valid.reset_index(drop=True, inplace=True)\n",
    "\n",
    "train_data = Birds(path, df_train, transform=transform)\n",
    "train_dataloader = DataLoader(train_data, batch_size=100, shuffle=True, drop_last=True)\n",
    "valid_data = Birds(path, df_valid, transform=transform)\n",
    "valid_dataloader = DataLoader(valid_data, batch_size=100, shuffle=False, drop_last=True)\n",
    "# Создаём объекс нашего собственного класса нейросети и закидываем на видеокарту\n",
    "my_first_nn = MyFirstArchiectureNN().to(device)\n",
    "# Выбираем функцию потерь (вроде как CrossEntropy хороша для задач классификации)\n",
    "criterion = nn.CrossEntropyLoss().to(device)\n",
    "# Выбираем оптимизатор Adam, т.к. современный и активно используется\n",
    "optimizer = torch.optim.Adam(my_first_nn.parameters(), lr=0.001)\n",
    "\n",
    "train_losses = []\n",
    "valid_losses = []\n",
    "num_epochs = 5 # Больше эпох приводит к переобучению\n",
    "\n",
    "for epoch in range(num_epochs):\n",
    "    train_loss = 0.0\n",
    "    for batch, labels in train_dataloader:\n",
    "        # Закидываем наши данные на видеокарту\n",
    "        batch, labels = batch.to(device), labels.to(device)\n",
    "        my_first_nn.train()\n",
    "        batch = batch.to(device)\n",
    "        labels = labels.to(device)\n",
    "        optimizer.zero_grad()\n",
    "        outputs = my_first_nn(batch.float())\n",
    "        loss = criterion(outputs, labels)\n",
    "        loss.backward()\n",
    "        optimizer.step()\n",
    "        train_loss += loss.item()\n",
    "    print(f'Epoch [{epoch+1}/{num_epochs}], Loss = {loss.item():.4f}')\n",
    "    \n",
    "    my_first_nn.eval()\n",
    "    valid_loss = 0.0\n",
    "    with torch.no_grad():\n",
    "        for batch, labels in valid_dataloader:\n",
    "            batch, labels = batch.to(device), labels.to(device)\n",
    "            outputs = my_first_nn(batch.float())\n",
    "            loss = criterion(outputs, labels)\n",
    "            valid_loss += loss.item()\n",
    "    print(f'Valid loss = {loss.item():.4f}')\n",
    "    \n",
    "    train_losses.append(train_loss / len(train_dataloader))\n",
    "    valid_losses.append(valid_loss / len(valid_dataloader))\n",
    "    \n",
    "print('Training is finished')\n",
    "\n",
    "torch.save(my_first_nn.state_dict(), 'my_first_bird_classifier_5_epoch.pth')\n",
    "\n",
    "combined_list = list(zip(train_losses, valid_losses))\n",
    "losses = pd.DataFrame(combined_list, columns=['train_loss', 'valid_loss'])\n",
    "losses.to_csv('Losses_5_epoch.csv', index=False)\n",
    "f = plt.figure(figsize = (9, 6))\n",
    "colors = ['#00DD99', '#9900DD']\n",
    "sns.lineplot(data=losses, palette = colors)\n",
    "plt.grid(ls = ':')\n",
    "plt.show()\n",
    "\n",
    "# Не идеально, но что есть, то есть..."
   ]
  },
  {
   "cell_type": "code",
   "execution_count": 27,
   "id": "1a2830c8",
   "metadata": {},
   "outputs": [
    {
     "name": "stdout",
     "output_type": "stream",
     "text": [
      "Epoch [1/3], Loss = 4.8763\n",
      "Valid loss = 4.8287\n",
      "Epoch [2/3], Loss = 4.2213\n",
      "Valid loss = 3.8333\n",
      "Epoch [3/3], Loss = 3.5894\n",
      "Valid loss = 3.5270\n",
      "Training is finished\n"
     ]
    },
    {
     "data": {
      "image/png": "[encoded data removed]",
      "text/plain": [
       "<Figure size 648x432 with 1 Axes>"
      ]
     },
     "metadata": {
      "needs_background": "light"
     },
     "output_type": "display_data"
    }
   ],
   "source": [
    "# Т.к. оказалось, не все изображения данного размера\n",
    "transform = Compose([Resize((224, 224))])\n",
    "\n",
    "df['class_id'] = df['class_id'].apply(int)\n",
    "df_train = df[df['data_set'] == 'train']\n",
    "df_valid = df[df['data_set'] == 'valid']\n",
    "# Без реиндексации DataLoader не может использовать метод get_item\n",
    "df_valid.reset_index(drop=True, inplace=True)\n",
    "\n",
    "train_data = Birds(path, df_train, transform=transform)\n",
    "train_dataloader = DataLoader(train_data, batch_size=100, shuffle=True, drop_last=True)\n",
    "valid_data = Birds(path, df_valid, transform=transform)\n",
    "valid_dataloader = DataLoader(valid_data, batch_size=100, shuffle=False, drop_last=True)\n",
    "# Создаём объекс нашего собственного класса нейросети и закидываем на видеокарту\n",
    "my_first_nn = MyFirstArchiectureNN().to(device)\n",
    "# Выбираем функцию потерь (вроде как CrossEntropy хороша для задач классификации)\n",
    "criterion = nn.CrossEntropyLoss().to(device)\n",
    "# Выбираем оптимизатор Adam, т.к. современный и активно используется\n",
    "optimizer = torch.optim.Adam(my_first_nn.parameters(), lr=0.001)\n",
    "\n",
    "train_losses = []\n",
    "valid_losses = []\n",
    "num_epochs = 3\n",
    "\n",
    "for epoch in range(num_epochs):\n",
    "    train_loss = 0.0\n",
    "    for batch, labels in train_dataloader:\n",
    "        # Закидываем наши данные на видеокарту\n",
    "        batch, labels = batch.to(device), labels.to(device)\n",
    "        my_first_nn.train()\n",
    "        batch = batch.to(device)\n",
    "        labels = labels.to(device)\n",
    "        optimizer.zero_grad()\n",
    "        outputs = my_first_nn(batch.float())\n",
    "        loss = criterion(outputs, labels)\n",
    "        loss.backward()\n",
    "        optimizer.step()\n",
    "        train_loss += loss.item()\n",
    "    print(f'Epoch [{epoch+1}/{num_epochs}], Loss = {loss.item():.4f}')\n",
    "    \n",
    "    my_first_nn.eval()\n",
    "    valid_loss = 0.0\n",
    "    with torch.no_grad():\n",
    "        for batch, labels in valid_dataloader:\n",
    "            batch, labels = batch.to(device), labels.to(device)\n",
    "            outputs = my_first_nn(batch.float())\n",
    "            loss = criterion(outputs, labels)\n",
    "            valid_loss += loss.item()\n",
    "    print(f'Valid loss = {loss.item():.4f}')\n",
    "    \n",
    "    train_losses.append(train_loss / len(train_dataloader))\n",
    "    valid_losses.append(valid_loss / len(valid_dataloader))\n",
    "    \n",
    "print('Training is finished')\n",
    "\n",
    "torch.save(my_first_nn.state_dict(), 'my_first_bird_classifier_3_epoch.pth')\n",
    "\n",
    "combined_list = list(zip(train_losses, valid_losses))\n",
    "losses = pd.DataFrame(combined_list, columns=['train_loss', 'valid_loss'])\n",
    "losses.to_csv('Losses_3_epoch.csv', index=False)\n",
    "f = plt.figure(figsize = (9, 6))\n",
    "colors = ['#00DD99', '#9900DD']\n",
    "sns.lineplot(data=losses, palette = colors)\n",
    "plt.grid(ls = ':')\n",
    "plt.show()"
   ]
  },
  {
   "cell_type": "code",
   "execution_count": 61,
   "id": "a229c064",
   "metadata": {},
   "outputs": [],
   "source": [
    "class Birds2(Dataset):\n",
    "    \n",
    "    def __init__(self, path, annotation, transform = None, target_transform = None):\n",
    "        self.img_labels = annotation['image_id']\n",
    "        self.img_class = annotation['class_id']\n",
    "        self.data_dir = path\n",
    "        self.img_dir = annotation['filepaths']\n",
    "        self.transform = transform\n",
    "        self.target_transform = target_transform\n",
    "\n",
    "    def __len__(self):\n",
    "        return len(self.img_labels)\n",
    "\n",
    "    def __getitem__(self, idx):\n",
    "        img_path = str(self.data_dir + self.img_dir[idx])\n",
    "        image = read_image(img_path)\n",
    "        # Пришлось добавить, потому что далее надо подавать PIL image\n",
    "        image = functional.to_pil_image(image)\n",
    "        label = self.img_class.loc[idx]\n",
    "        if self.transform:\n",
    "            image = self.transform(image)\n",
    "        if self.target_transform:\n",
    "            label = self.target_transform(label)\n",
    "        return image, label\n"
   ]
  },
  {
   "cell_type": "code",
   "execution_count": 62,
   "id": "0181c635",
   "metadata": {},
   "outputs": [
    {
     "name": "stdout",
     "output_type": "stream",
     "text": [
      "Epoch [1/5], Loss = 4.6075\n",
      "Valid loss = 4.0654\n",
      "Epoch [2/5], Loss = 3.3358\n",
      "Valid loss = 2.5462\n",
      "Epoch [3/5], Loss = 2.4143\n",
      "Valid loss = 2.4759\n",
      "Epoch [4/5], Loss = 3.2351\n",
      "Valid loss = 1.9141\n",
      "Epoch [5/5], Loss = 2.5219\n",
      "Valid loss = 2.2396\n",
      "Training is finished\n"
     ]
    },
    {
     "data": {
      "image/png": "[encoded data removed]",
      "text/plain": [
       "<Figure size 648x432 with 1 Axes>"
      ]
     },
     "metadata": {
      "needs_background": "light"
     },
     "output_type": "display_data"
    }
   ],
   "source": [
    "# Попробуем добавить нормализацию данных для наших изображений\n",
    "transform = Compose([\n",
    "    Resize((224, 224)),\n",
    "    ToTensor(),\n",
    "    Normalize(mean=[0.485, 0.456, 0.406], std=[0.229, 0.224, 0.225])\n",
    "])\n",
    "\n",
    "df['class_id'] = df['class_id'].apply(int)\n",
    "df_train = df[df['data_set'] == 'train']\n",
    "df_valid = df[df['data_set'] == 'valid']\n",
    "# Без реиндексации DataLoader не может использовать метод get_item\n",
    "df_valid.reset_index(drop=True, inplace=True)\n",
    "# Загружаем наши данные в DataLoader для подачи в нейросеть\n",
    "# Прочитал, что обычно используют малые батчи ~32-64\n",
    "train_data = Birds2(path, df_train, transform=transform)\n",
    "train_dataloader = DataLoader(train_data, batch_size=32, shuffle=True, drop_last=True)\n",
    "valid_data = Birds2(path, df_valid, transform=transform)\n",
    "valid_dataloader = DataLoader(valid_data, batch_size=32, shuffle=False, drop_last=True)\n",
    "# Создаём объекс нашего собственного класса нейросети и закидываем на видеокарту\n",
    "my_first_nn = MyFirstArchiectureNN().to(device)\n",
    "# Выбираем функцию потерь (вроде как CrossEntropy хороша для задач классификации)\n",
    "criterion = nn.CrossEntropyLoss().to(device)\n",
    "# Выбираем оптимизатор Adam, т.к. современный и активно используется\n",
    "optimizer = torch.optim.Adam(my_first_nn.parameters(), lr=0.001)\n",
    "\n",
    "train_losses = []\n",
    "valid_losses = []\n",
    "num_epochs = 5\n",
    "\n",
    "for epoch in range(num_epochs):\n",
    "    train_loss = 0.0\n",
    "    for batch, labels in train_dataloader:\n",
    "        # Закидываем наши данные на видеокарту\n",
    "        batch, labels = batch.to(device), labels.to(device)\n",
    "        my_first_nn.train()\n",
    "        batch = batch.to(device)\n",
    "        labels = labels.to(device)\n",
    "        optimizer.zero_grad()\n",
    "        outputs = my_first_nn(batch.float())\n",
    "        loss = criterion(outputs, labels)\n",
    "        loss.backward()\n",
    "        optimizer.step()\n",
    "        train_loss += loss.item()\n",
    "    print(f'Epoch [{epoch+1}/{num_epochs}], Loss = {loss.item():.4f}')\n",
    "    \n",
    "    my_first_nn.eval()\n",
    "    valid_loss = 0.0\n",
    "    with torch.no_grad():\n",
    "        for batch, labels in valid_dataloader:\n",
    "            batch, labels = batch.to(device), labels.to(device)\n",
    "            outputs = my_first_nn(batch.float())\n",
    "            loss = criterion(outputs, labels)\n",
    "            valid_loss += loss.item()\n",
    "    print(f'Valid loss = {loss.item():.4f}')\n",
    "    \n",
    "    train_losses.append(train_loss / len(train_dataloader))\n",
    "    valid_losses.append(valid_loss / len(valid_dataloader))\n",
    "    \n",
    "print('Training is finished')\n",
    "\n",
    "torch.save(my_first_nn.state_dict(), 'bird_classifier_5_epoch_norm.pth')\n",
    "\n",
    "combined_list = list(zip(train_losses, valid_losses))\n",
    "losses = pd.DataFrame(combined_list, columns=['train_loss', 'valid_loss'])\n",
    "losses.to_csv('Losses_5_epoch_norm.csv', index=False)\n",
    "f = plt.figure(figsize = (9, 6))\n",
    "colors = ['#00DD99', '#9900DD']\n",
    "sns.lineplot(data=losses, palette = colors)\n",
    "plt.grid(ls = ':')\n",
    "plt.show()\n",
    "# Лучшая из моих моделей"
   ]
  },
  {
   "cell_type": "markdown",
   "id": "555420f4",
   "metadata": {},
   "source": [
    "5) Обучить или дообучить одну из моделей, включенных в torchvision\n",
    "например, ResNet (модели можно посмотреть тут\n",
    "https: pytorch.org/vision/stable/models.html) - 4 балла"
   ]
  },
  {
   "cell_type": "markdown",
   "id": "cc113f7b",
   "metadata": {},
   "source": [
    "Я кратко изучил предобученные модели по ссылке. И прочитал эту страницу: \n",
    "https://learnopencv.com/pytorch-for-beginners-image-classification-using-pre-trained-models/\n",
    "Я решил взять более новую модель и при этом с минимальным количеством параметров, т.к. хоть я и обучаю на GPU, но использую ноутбук.\n",
    "Как итог, выбрал shufflenet_v2_x0_5 (2018 год), потому что она новее ResNet (2015) и содержит меньше параметров, чем MobileNet (2018).\n"
   ]
  },
  {
   "cell_type": "code",
   "execution_count": 17,
   "id": "15961fe5",
   "metadata": {},
   "outputs": [],
   "source": [
    "from torchvision.models import shufflenet_v2_x0_5"
   ]
  },
  {
   "cell_type": "code",
   "execution_count": 63,
   "id": "8bc393a2",
   "metadata": {},
   "outputs": [
    {
     "name": "stdout",
     "output_type": "stream",
     "text": [
      "Epoch [1/5], Loss = 0.7819\n",
      "Valid loss = 0.5202\n",
      "Epoch [2/5], Loss = 1.0344\n",
      "Valid loss = 0.3856\n",
      "Epoch [3/5], Loss = 0.8163\n",
      "Valid loss = 0.2461\n",
      "Epoch [4/5], Loss = 0.8431\n",
      "Valid loss = 0.1212\n",
      "Epoch [5/5], Loss = 0.4703\n",
      "Valid loss = 0.3877\n",
      "Training is finished\n"
     ]
    },
    {
     "data": {
      "image/png": "[encoded data removed]",
      "text/plain": [
       "<Figure size 648x432 with 1 Axes>"
      ]
     },
     "metadata": {
      "needs_background": "light"
     },
     "output_type": "display_data"
    }
   ],
   "source": [
    "# Попробуем добавить нормализацию данных для наших изображений\n",
    "transform = Compose([\n",
    "    Resize((224, 224)),\n",
    "    ToTensor(),\n",
    "    Normalize(mean=[0.485, 0.456, 0.406], std=[0.229, 0.224, 0.225])\n",
    "])\n",
    "\n",
    "# Загружаем наши данные в DataLoader для подачи в нейросеть\n",
    "train_data = Birds2(path, df_train, transform=transform)\n",
    "train_dataloader = DataLoader(train_data, batch_size=32, shuffle=True, drop_last=True)\n",
    "valid_data = Birds2(path, df_valid, transform=transform)\n",
    "valid_dataloader = DataLoader(valid_data, batch_size=32, shuffle=False, drop_last=True)\n",
    "\n",
    "# Загружаем предобученную модель\n",
    "model = shufflenet_v2_x0_5(pretrained=True)\n",
    "# Изменение последнего слоя для 450 классов\n",
    "num_classes = df['class_id'].nunique()\n",
    "model.fc = torch.nn.Linear(model.fc.in_features, num_classes)\n",
    "model = model.to(device)\n",
    "# Выбираем функцию потерь (вроде как CrossEntropy хороша для задач классификации)\n",
    "criterion = nn.CrossEntropyLoss().to(device)\n",
    "# Выбираем оптимизатор Adam, т.к. современный и активно используется\n",
    "optimizer = torch.optim.Adam(model.parameters(), lr=0.001)\n",
    "\n",
    "train_losses = []\n",
    "valid_losses = []\n",
    "num_epochs = 5\n",
    "\n",
    "for epoch in range(num_epochs):\n",
    "    train_loss = 0.0\n",
    "    for batch, labels in train_dataloader:\n",
    "        # Закидываем наши данные на видеокарту\n",
    "        batch, labels = batch.to(device), labels.to(device)\n",
    "        model.train()\n",
    "        optimizer.zero_grad()\n",
    "        outputs = model(batch.float())\n",
    "        loss = criterion(outputs, labels)\n",
    "        loss.backward()\n",
    "        optimizer.step()\n",
    "        train_loss += loss.item()\n",
    "    print(f'Epoch [{epoch+1}/{num_epochs}], Loss = {loss.item():.4f}')\n",
    "    \n",
    "    model.eval()\n",
    "    valid_loss = 0.0\n",
    "    with torch.no_grad():\n",
    "        for batch, labels in valid_dataloader:\n",
    "            batch, labels = batch.to(device), labels.to(device)\n",
    "            outputs = model(batch.float())\n",
    "            loss = criterion(outputs, labels)\n",
    "            valid_loss += loss.item()\n",
    "    print(f'Valid loss = {loss.item():.4f}')\n",
    "    \n",
    "    train_losses.append(train_loss / len(train_dataloader))\n",
    "    valid_losses.append(valid_loss / len(valid_dataloader))\n",
    "    \n",
    "print('Training is finished')\n",
    "\n",
    "torch.save(model, 'shufflenet_v2_x0_5_bird_classifier_5_epoch.pth')\n",
    "\n",
    "combined_list = list(zip(train_losses, valid_losses))\n",
    "losses = pd.DataFrame(combined_list, columns=['train_loss', 'valid_loss'])\n",
    "losses.to_csv('shufflenet_v2_x0_5_Losses_5_epoch.csv', index=False)\n",
    "f = plt.figure(figsize = (9, 6))\n",
    "colors = ['#00DD99', '#9900DD']\n",
    "sns.lineplot(data=losses, palette = colors)\n",
    "plt.grid(ls = ':')\n",
    "plt.show()\n",
    "# Мы смогли довольно вовремя остановиться - ура!\n",
    "# Предобученная модель показывает явно лучший результат, чем моя собственная архитектура ;("
   ]
  },
  {
   "cell_type": "markdown",
   "id": "22574046",
   "metadata": {},
   "source": [
    "6) Дать комментарии по результатам 3-5 пунктов, отрисовать графики -\n",
    "3 балла"
   ]
  },
  {
   "cell_type": "code",
   "execution_count": 97,
   "id": "388d9c36",
   "metadata": {},
   "outputs": [],
   "source": [
    "from sklearn.metrics import f1_score, roc_curve, roc_auc_score, auc, precision_recall_fscore_support, accuracy_score\n",
    "from sklearn.preprocessing import label_binarize"
   ]
  },
  {
   "cell_type": "code",
   "execution_count": 77,
   "id": "d72c7f78",
   "metadata": {
    "scrolled": true
   },
   "outputs": [
    {
     "name": "stdout",
     "output_type": "stream",
     "text": [
      "[0, 0, 131, 0, 9, 319, 1, 383, 440, 1, 2, 2, 2, 2, 2, 106, 100, 3, 3, 3, 4, 4, 4, 4, 4, 5, 5, 41, 5, 5, 6, 6, 6, 338, 6, 7, 7, 241, 7, 7, 308, 8, 8, 8, 8, 9, 9, 9, 9, 9, 10, 10, 10, 10, 10, 11, 11, 11, 11, 11, 12, 12, 12, 12, 12, 13, 13, 13, 107, 13, 14, 14, 14, 14, 14, 15, 15, 15, 15, 15, 16, 16, 16, 16, 16, 17, 17, 17, 17, 17, 18, 18, 18, 18, 18, 19, 60, 19, 19, 19, 20, 20, 20, 20, 203, 21, 132, 21, 257, 132, 22, 22, 22, 22, 28, 23, 23, 23, 23, 23, 24, 24, 24, 24, 24, 25, 175, 401, 25, 25, 26, 26, 26, 26, 26, 27, 27, 27, 27, 27, 28, 28, 28, 28, 28, 29, 29, 29, 29, 176, 30, 30, 30, 30, 30, 31, 31, 31, 31, 278, 32, 32, 32, 32, 32, 33, 33, 33, 33, 33, 34, 34, 315, 34, 391, 35, 35, 35, 35, 427, 36, 36, 36, 36, 36, 37, 37, 37, 37, 299, 38, 38, 95, 38, 38, 39, 39, 39, 39, 39, 40, 40, 40, 40, 40, 41, 41, 41, 41, 41, 42, 42, 42, 42, 42, 43, 43, 43, 43, 43, 44, 44, 44, 158, 45, 45, 45, 45, 45, 45, 46, 323, 46, 46, 46, 47, 47, 47, 47, 47, 48, 48, 48, 48, 48, 49, 49, 49, 49, 49, 50, 50, 50, 50, 50, 51, 51, 51, 51, 51, 52, 52, 52, 52, 41, 53, 53, 53, 53, 53, 54, 54, 54, 54, 54, 55, 55, 55, 55, 55, 56, 56, 56, 56, 56, 57, 57, 57, 57, 57, 58, 58, 58, 58, 58, 59, 59, 59, 59, 59, 60, 60, 60, 60, 60, 61, 61, 61, 61, 61, 62, 62, 62, 62, 62, 63, 63, 63, 63, 63, 64, 64, 64, 64, 64, 65, 65, 65, 65, 65, 66, 66, 66, 66, 66, 256, 67, 256, 67, 67, 68, 68, 68, 68, 68, 69, 246, 69, 69, 69, 70, 70, 70, 70, 70, 71, 248, 71, 71, 71, 72, 72, 72, 72, 72, 73, 73, 73, 73, 73, 74, 74, 74, 74, 74, 75, 75, 75, 75, 75, 76, 76, 76, 76, 76, 77, 77, 77, 77, 77, 78, 78, 78, 78, 78, 79, 79, 79, 79, 79, 80, 80, 80, 80, 80, 81, 81, 81, 81, 81, 82, 82, 82, 82, 82, 83, 83, 83, 83, 83, 84, 84, 84, 84, 84, 85, 89, 85, 85, 85, 86, 93, 86, 86, 86, 87, 87, 87, 87, 87, 88, 95, 88, 383, 88, 89, 89, 89, 89, 89, 90, 90, 90, 90, 90, 91, 40, 91, 91, 91, 92, 92, 92, 92, 92, 93, 93, 93, 93, 93, 94, 94, 94, 94, 94, 95, 95, 95, 95, 95, 96, 37, 96, 158, 96, 97, 202, 97, 97, 97, 98, 98, 98, 98, 98, 99, 99, 99, 99, 99, 100, 100, 257, 100, 100, 101, 101, 101, 101, 101, 102, 102, 102, 102, 102, 103, 103, 103, 103, 103, 104, 104, 104, 104, 104, 105, 105, 105, 105, 248, 106, 106, 106, 106, 106, 107, 107, 107, 107, 107, 108, 108, 108, 108, 108, 109, 109, 109, 109, 109, 110, 110, 110, 110, 110, 111, 111, 111, 111, 111, 112, 112, 112, 112, 112, 113, 113, 156, 113, 113, 114, 114, 114, 114, 114, 115, 115, 115, 115, 115, 116, 116, 116, 116, 116, 295, 117, 117, 117, 117, 118, 118, 118, 118, 118, 119, 119, 119, 119, 119, 120, 120, 120, 120, 120, 121, 121, 121, 121, 121, 122, 122, 315, 122, 122, 123, 123, 123, 123, 123, 124, 124, 124, 124, 124, 125, 311, 125, 125, 125, 126, 126, 126, 126, 126, 127, 127, 127, 127, 127, 128, 128, 128, 128, 128, 129, 129, 129, 129, 129, 130, 130, 130, 130, 130, 131, 131, 131, 131, 131, 132, 132, 132, 132, 132, 133, 133, 133, 133, 133, 134, 134, 134, 134, 134, 135, 135, 135, 135, 135, 136, 136, 136, 136, 136, 137, 137, 137, 137, 137, 138, 138, 138, 138, 138, 139, 431, 139, 139, 139, 140, 140, 140, 140, 140, 141, 141, 141, 141, 141, 142, 142, 142, 142, 142, 143, 143, 143, 143, 143, 144, 144, 144, 144, 144, 145, 145, 145, 145, 145, 146, 146, 146, 146, 285, 147, 147, 147, 147, 147, 148, 148, 148, 148, 148, 149, 149, 149, 149, 149, 150, 150, 150, 150, 150, 151, 151, 151, 151, 151, 152, 152, 152, 152, 152, 153, 153, 153, 153, 153, 154, 154, 154, 154, 448, 428, 155, 155, 155, 155, 156, 156, 156, 156, 156, 157, 157, 157, 157, 157, 158, 158, 158, 158, 158, 159, 348, 159, 159, 159, 160, 160, 160, 160, 160, 161, 161, 161, 161, 161, 162, 162, 162, 162, 162, 163, 163, 163, 163, 163, 164, 164, 164, 164, 164, 165, 165, 165, 165, 165, 166, 166, 166, 166, 166, 360, 429, 429, 429, 234, 168, 254, 168, 168, 168, 88, 169, 169, 169, 169, 170, 170, 170, 170, 170, 171, 38, 171, 171, 171, 172, 172, 172, 172, 172, 315, 165, 165, 165, 173, 174, 174, 174, 174, 174, 175, 175, 175, 175, 175, 176, 176, 176, 176, 176, 177, 168, 177, 177, 177, 178, 178, 178, 178, 178, 179, 179, 179, 179, 179, 180, 180, 180, 180, 180, 181, 181, 181, 181, 181, 182, 182, 182, 182, 182, 231, 228, 228, 183, 183, 184, 184, 351, 184, 184, 185, 185, 185, 185, 185, 186, 186, 186, 186, 186, 187, 187, 187, 248, 187, 188, 188, 188, 10, 188, 189, 189, 189, 189, 189, 190, 190, 190, 190, 190, 191, 191, 191, 191, 191, 192, 192, 192, 192, 192, 193, 193, 193, 193, 220, 194, 194, 194, 194, 194, 195, 195, 195, 25, 195, 196, 196, 196, 196, 196, 30, 20, 197, 197, 197, 198, 198, 198, 198, 198, 199, 199, 199, 199, 199, 135, 200, 200, 394, 200, 201, 201, 201, 201, 201, 202, 202, 202, 105, 202, 203, 203, 203, 203, 203, 204, 204, 204, 204, 204, 205, 205, 205, 205, 205, 206, 206, 206, 206, 206, 207, 207, 207, 207, 207, 208, 208, 208, 208, 208, 209, 209, 209, 209, 209, 210, 210, 210, 210, 210, 211, 211, 211, 114, 211, 212, 212, 212, 318, 212, 213, 213, 213, 213, 213, 214, 214, 214, 214, 214, 215, 215, 215, 215, 215, 286, 216, 216, 216, 216, 217, 217, 217, 217, 217, 218, 218, 218, 218, 218, 219, 219, 219, 219, 219, 220, 220, 220, 220, 220, 221, 221, 221, 221, 221, 222, 222, 222, 222, 222, 223, 223, 223, 223, 223, 224, 224, 224, 32, 224, 225, 225, 225, 225, 225, 226, 226, 226, 226, 226, 227, 227, 227, 227, 227, 228, 228, 228, 228, 228, 229, 229, 229, 229, 424, 230, 230, 230, 230, 230, 231, 231, 231, 231, 231, 232, 232, 232, 232, 34, 233, 233, 233, 202, 233, 234, 234, 234, 186, 234, 103, 235, 235, 235, 235, 236, 236, 236, 236, 236, 237, 237, 237, 237, 237, 238, 238, 238, 238, 238, 239, 239, 239, 241, 239, 240, 240, 240, 240, 240, 241, 241, 241, 241, 89, 242, 242, 242, 242, 242, 243, 243, 243, 243, 243, 244, 244, 244, 244, 244, 245, 245, 245, 245, 245, 246, 246, 246, 246, 246, 247, 247, 247, 247, 247, 248, 248, 248, 250, 248, 249, 298, 249, 249, 249, 250, 250, 250, 250, 250, 251, 251, 251, 251, 251, 252, 67, 252, 252, 252, 253, 31, 253, 253, 278, 254, 254, 254, 182, 254, 255, 255, 255, 255, 255, 256, 256, 256, 256, 256, 257, 257, 257, 257, 257, 258, 258, 258, 258, 258, 259, 259, 259, 259, 259, 260, 260, 260, 260, 260, 261, 261, 261, 261, 261, 31, 262, 405, 262, 262, 263, 127, 263, 263, 263, 264, 264, 264, 264, 264, 265, 265, 265, 265, 265, 266, 266, 266, 266, 266, 267, 267, 267, 267, 119, 268, 268, 268, 268, 268, 269, 269, 269, 269, 269, 270, 270, 270, 270, 270, 271, 271, 295, 271, 271, 272, 272, 272, 272, 272, 273, 273, 273, 273, 273, 254, 274, 274, 254, 274, 275, 275, 275, 275, 275, 276, 276, 276, 276, 276, 277, 320, 277, 277, 277, 278, 278, 278, 278, 278, 279, 279, 279, 279, 279, 280, 280, 280, 280, 280, 281, 10, 281, 281, 281, 282, 282, 282, 282, 282, 283, 283, 283, 283, 283, 284, 284, 284, 284, 284, 285, 285, 285, 285, 285, 286, 286, 286, 286, 286, 287, 287, 287, 287, 287, 288, 288, 107, 288, 288, 289, 289, 289, 289, 289, 290, 290, 290, 290, 290, 291, 291, 291, 291, 291, 201, 292, 292, 292, 292, 293, 293, 293, 293, 293, 294, 294, 294, 294, 294, 295, 295, 295, 295, 295, 296, 296, 296, 296, 296, 297, 297, 297, 297, 214, 298, 298, 298, 298, 298, 299, 299, 299, 299, 299, 300, 300, 241, 300, 300, 301, 301, 301, 301, 301, 302, 302, 302, 302, 302, 303, 303, 303, 303, 303, 304, 304, 304, 304, 304, 305, 305, 305, 305, 305, 306, 306, 306, 306, 306, 307, 307, 307, 307, 307, 308, 308, 308, 442, 135, 309, 309, 309, 309, 309, 310, 310, 394, 310, 310, 311, 311, 71, 311, 338, 312, 232, 296, 312, 312, 448, 313, 313, 313, 313, 314, 314, 314, 314, 314, 315, 315, 315, 315, 315, 316, 234, 234, 316, 316, 317, 317, 317, 36, 317, 318, 212, 318, 318, 318, 319, 394, 319, 319, 319, 320, 320, 320, 320, 320, 365, 321, 321, 321, 321, 322, 322, 322, 322, 322, 323, 323, 234, 323, 323, 324, 324, 324, 324, 324, 325, 325, 325, 325, 325, 326, 16, 326, 326, 326, 327, 327, 327, 327, 327, 328, 328, 328, 328, 328, 329, 329, 329, 329, 329, 330, 330, 330, 330, 330, 365, 331, 331, 331, 331, 332, 332, 332, 332, 332, 333, 333, 333, 333, 333, 334, 334, 334, 334, 334, 335, 335, 335, 335, 335, 336, 336, 336, 336, 110, 337, 337, 337, 337, 337, 338, 338, 338, 338, 338, 339, 339, 339, 339, 339, 340, 340, 340, 340, 340, 341, 341, 341, 341, 341, 342, 342, 342, 342, 342, 343, 343, 343, 343, 343, 344, 344, 344, 344, 372, 345, 132, 345, 345, 345, 346, 346, 346, 346, 346, 347, 262, 262, 262, 347, 348, 348, 348, 350, 348, 349, 349, 349, 349, 349, 350, 350, 350, 350, 350, 351, 351, 351, 351, 351, 352, 352, 352, 352, 352, 353, 353, 353, 353, 353, 354, 354, 354, 354, 354, 355, 355, 355, 355, 355, 356, 356, 356, 356, 356, 357, 357, 357, 357, 357, 358, 358, 358, 358, 358, 359, 359, 359, 359, 359, 360, 360, 360, 360, 360, 361, 361, 361, 361, 361, 362, 362, 362, 362, 362, 363, 363, 363, 363, 363, 364, 364, 364, 364, 364, 365, 365, 365, 375, 375, 366, 366, 366, 366, 366, 321, 420, 367, 367, 202, 368, 368, 368, 368, 368, 369, 369, 369, 369, 369, 370, 370, 370, 370, 370, 371, 14, 371, 371, 371, 372, 372, 344, 372, 344, 373, 373, 373, 373, 373, 374, 374, 374, 374, 374, 219, 375, 375, 375, 375, 376, 376, 376, 376, 376, 28, 377, 377, 377, 377, 378, 378, 378, 378, 378, 351, 379, 379, 379, 379, 380, 380, 380, 380, 380, 381, 381, 381, 381, 381, 382, 382, 382, 382, 382, 383, 383, 383, 383, 383, 384, 384, 384, 384, 384, 385, 385, 385, 385, 385, 386, 386, 400, 386, 386, 387, 387, 387, 387, 387, 388, 388, 388, 388, 388, 389, 389, 389, 389, 389, 390, 390, 390, 390, 390, 391, 345, 345, 391, 219, 392, 392, 392, 392, 392, 393, 8, 393, 393, 393, 394, 394, 394, 394, 394, 395, 395, 399, 395, 395, 396, 396, 396, 396, 396, 397, 397, 397, 397, 397, 398, 398, 398, 398, 398, 399, 399, 399, 399, 399, 400, 164, 400, 400, 400, 401, 401, 401, 401, 318, 402, 402, 402, 402, 402, 288, 403, 403, 403, 403, 404, 404, 378, 404, 404, 405, 41, 405, 405, 405, 406, 406, 406, 406, 406, 407, 407, 407, 407, 407, 408, 408, 408, 408, 408, 409, 409, 409, 409, 409, 410, 410, 410, 362, 410, 411, 411, 411, 411, 411, 412, 412, 412, 412, 412, 413, 413, 413, 413, 413, 414, 414, 414, 414, 414, 47, 415, 415, 415, 304, 416, 416, 416, 416, 416, 417, 417, 417, 417, 417, 82, 82, 418, 418, 82, 419, 431, 419, 419, 419, 420, 349, 136, 420, 224, 109, 421, 421, 421, 421, 422, 422, 422, 422, 422, 423, 423, 423, 423, 423, 424, 424, 424, 355, 424, 425, 425, 425, 425, 425, 426, 426, 426, 426, 426, 427, 427, 427, 35, 427, 428, 428, 428, 428, 448, 429, 429, 429, 429, 429, 159, 236, 430, 430, 430, 431, 431, 431, 431, 431, 432, 432, 432, 432, 432, 433, 433, 433, 433, 433, 434, 434, 434, 434, 434, 435, 435, 435, 435, 435, 436, 436, 436, 38, 436, 437, 437, 437, 437, 437, 438, 438, 438, 438, 438, 439, 439, 439, 242, 439, 440, 365, 440, 440, 440, 441, 441, 158, 373, 158, 442, 442, 442, 442, 442, 443, 443, 443, 443, 443, 444, 444, 444, 444, 444, 445, 445, 445, 445, 445, 446, 446, 446, 446, 446, 447, 30, 324, 447, 447, 448, 448, 448, 448, 448, 449, 29, 449, 449, 449]\n"
     ]
    }
   ],
   "source": [
    "# Загрузка модели\n",
    "model = torch.load('shufflenet_v2_x0_5_bird_classifier_5_epoch.pth')\n",
    "model.eval() # Перевод модели в режим оценки\n",
    "\n",
    "# Подготовка данных для предсказания\n",
    "transform = Compose([\n",
    "    Resize((224,224)),\n",
    "    ToTensor(),\n",
    "    Normalize(mean=[0.485, 0.456, 0.406], std=[0.229, 0.224, 0.225])\n",
    "           ])\n",
    "    \n",
    "valid_data = Birds2(path, df_valid, transform=transform)\n",
    "valid_dataloader = DataLoader(valid_data, batch_size=1, shuffle=False)\n",
    "\n",
    "# Перевод данных на устройство, если доступно GPU\n",
    "device = torch.device('cuda' if torch.cuda.is_available() else 'cpu')\n",
    "model = model.to(device)\n",
    "\n",
    "pred_class = []    \n",
    "# Выполнение предсказания\n",
    "with torch.no_grad():\n",
    "        for batch, labels in valid_dataloader:\n",
    "            batch, labels = batch.to(device), labels.to(device)\n",
    "            outputs = model(batch.float())\n",
    "            _, predicted = torch.max(outputs, 1)\n",
    "            predicted = predicted.cpu()\n",
    "            pred_class.append(predicted.item())\n",
    " \n",
    "#print(pred_class)"
   ]
  },
  {
   "cell_type": "code",
   "execution_count": 82,
   "id": "8b64e2c4",
   "metadata": {},
   "outputs": [
    {
     "name": "stdout",
     "output_type": "stream",
     "text": [
      "F1 метрика (макро): 0.9170284653617988\n",
      "F1 метрика (микро): 0.9195555555555556\n",
      "F1 метрика (среднее взвешенное): 0.9170284653617988\n"
     ]
    }
   ],
   "source": [
    "true_class = df_valid['class_id'].tolist()\n",
    "f1_macro = f1_score(true_class, pred_class, average='macro')\n",
    "f1_micro = f1_score(true_class, pred_class, average='micro')\n",
    "print(\"F1 метрика (макро):\", f1_macro)\n",
    "print(\"F1 метрика (микро):\", f1_micro)\n",
    "f1_weighted = f1_score(true_class, pred_class, average='weighted')\n",
    "print(\"F1 метрика (среднее взвешенное):\", f1_weighted)"
   ]
  },
  {
   "cell_type": "code",
   "execution_count": 99,
   "id": "4161cd22",
   "metadata": {},
   "outputs": [
    {
     "name": "stdout",
     "output_type": "stream",
     "text": [
      "Accuracy: 0.9195555555555556\n",
      "Average Precision: 0.9323721340388007\n",
      "Average Recall: 0.9195555555555556\n"
     ]
    },
    {
     "name": "stderr",
     "output_type": "stream",
     "text": [
      "/home/egor/miniconda3/envs/jupyter/lib/python3.6/site-packages/sklearn/metrics/_classification.py:1248: UndefinedMetricWarning: Precision and F-score are ill-defined and being set to 0.0 in labels with no predicted samples. Use `zero_division` parameter to control this behavior.\n",
      "  _warn_prf(average, modifier, msg_start, len(result))\n"
     ]
    }
   ],
   "source": [
    "# Вычисление точности, полноты, F-меры и поддержки для каждого класса\n",
    "precision, recall, _ , _ = precision_recall_fscore_support(true_class, pred_class)\n",
    "accuracy = accuracy_score(true_class, pred_class)\n",
    "precision_aver = precision.mean()\n",
    "recall_aver = recall.mean()\n",
    "\n",
    "print('Accuracy:', accuracy)\n",
    "print('Average Precision:', precision_aver)\n",
    "print('Average Recall:', recall_aver)"
   ]
  },
  {
   "cell_type": "code",
   "execution_count": 104,
   "id": "0c72ed97",
   "metadata": {},
   "outputs": [],
   "source": [
    "# Возьмём последнюю из моих собственных моделей:\n",
    "\n",
    "model = MyFirstArchiectureNN()\n",
    "model.load_state_dict(torch.load('bird_classifier_5_epoch_norm.pth'))\n",
    "model.eval() \n",
    "\n",
    "transform = Compose([\n",
    "    Resize((224,224)),\n",
    "    ToTensor(),\n",
    "    Normalize(mean=[0.485, 0.456, 0.406], std=[0.229, 0.224, 0.225])\n",
    "           ])\n",
    "    \n",
    "valid_data = Birds2(path, df_valid, transform=transform)\n",
    "valid_dataloader = DataLoader(valid_data, batch_size=1, shuffle=False)\n",
    "\n",
    "device = torch.device('cuda' if torch.cuda.is_available() else 'cpu')\n",
    "model = model.to(device)\n",
    "\n",
    "pred_class = []    \n",
    "with torch.no_grad():\n",
    "        for batch, labels in valid_dataloader:\n",
    "            batch, labels = batch.to(device), labels.to(device)\n",
    "            outputs = model(batch.float())\n",
    "            _, predicted = torch.max(outputs, 1)\n",
    "            predicted = predicted.cpu()\n",
    "            pred_class.append(predicted.item())\n",
    " \n",
    "#print(pred_class)"
   ]
  },
  {
   "cell_type": "code",
   "execution_count": 105,
   "id": "b00d22ac",
   "metadata": {},
   "outputs": [
    {
     "name": "stdout",
     "output_type": "stream",
     "text": [
      "F1 метрика (макро): 0.39749706076517227\n",
      "F1 метрика (микро): 0.416\n",
      "F1 метрика (среднее взвешенное): 0.3974970607651722\n",
      "Accuracy: 0.416\n",
      "Average Precision: 0.44177012802012805\n",
      "Average Recall: 0.416\n"
     ]
    },
    {
     "name": "stderr",
     "output_type": "stream",
     "text": [
      "/home/egor/miniconda3/envs/jupyter/lib/python3.6/site-packages/sklearn/metrics/_classification.py:1248: UndefinedMetricWarning: Precision and F-score are ill-defined and being set to 0.0 in labels with no predicted samples. Use `zero_division` parameter to control this behavior.\n",
      "  _warn_prf(average, modifier, msg_start, len(result))\n"
     ]
    }
   ],
   "source": [
    "true_class = df_valid['class_id'].tolist()\n",
    "f1_macro = f1_score(true_class, pred_class, average='macro')\n",
    "f1_micro = f1_score(true_class, pred_class, average='micro')\n",
    "f1_weighted = f1_score(true_class, pred_class, average='weighted')\n",
    "print(\"F1 метрика (макро):\", f1_macro)\n",
    "print(\"F1 метрика (микро):\", f1_micro)\n",
    "print(\"F1 метрика (среднее взвешенное):\", f1_weighted)\n",
    "\n",
    "precision, recall, _ , _ = precision_recall_fscore_support(true_class, pred_class)\n",
    "accuracy = accuracy_score(true_class, pred_class)\n",
    "precision_aver = precision.mean()\n",
    "recall_aver = recall.mean()\n",
    "\n",
    "print('Accuracy:', accuracy)\n",
    "print('Average Precision:', precision_aver)\n",
    "print('Average Recall:', recall_aver)\n",
    "\n",
    "# Моя собственная архитектура способна правильно определить менее половины изображений\n",
    "# Итог: либо подбирать собственную архитектуру или же использовать уже готовые"
   ]
  },
  {
   "cell_type": "code",
   "execution_count": 106,
   "id": "758f9747",
   "metadata": {},
   "outputs": [
    {
     "name": "stdout",
     "output_type": "stream",
     "text": [
      "F1 метрика (макро): 4.546749322405715e-05\n",
      "F1 метрика (микро): 0.0013333333333333333\n",
      "F1 метрика (среднее взвешенное): 4.546749322405714e-05\n",
      "Accuracy: 0.0013333333333333333\n",
      "Average Precision: 2.318141208679903e-05\n",
      "Average Recall: 0.0013333333333333335\n"
     ]
    },
    {
     "name": "stderr",
     "output_type": "stream",
     "text": [
      "/home/egor/miniconda3/envs/jupyter/lib/python3.6/site-packages/sklearn/metrics/_classification.py:1248: UndefinedMetricWarning: Precision and F-score are ill-defined and being set to 0.0 in labels with no predicted samples. Use `zero_division` parameter to control this behavior.\n",
      "  _warn_prf(average, modifier, msg_start, len(result))\n"
     ]
    }
   ],
   "source": [
    "# Чтобы ужаснуться, возьмём самую первую модель\n",
    "model = MyFirstArchiectureNN()\n",
    "model.load_state_dict(torch.load('my_first_bird_classifier.pth'))\n",
    "model.eval() \n",
    "\n",
    "transform = Compose([\n",
    "    Resize((224,224)),\n",
    "    ToTensor(),\n",
    "    Normalize(mean=[0.485, 0.456, 0.406], std=[0.229, 0.224, 0.225])\n",
    "           ])\n",
    "    \n",
    "valid_data = Birds2(path, df_valid, transform=transform)\n",
    "valid_dataloader = DataLoader(valid_data, batch_size=1, shuffle=False)\n",
    "\n",
    "device = torch.device('cuda' if torch.cuda.is_available() else 'cpu')\n",
    "model = model.to(device)\n",
    "\n",
    "pred_class = []    \n",
    "with torch.no_grad():\n",
    "        for batch, labels in valid_dataloader:\n",
    "            batch, labels = batch.to(device), labels.to(device)\n",
    "            outputs = model(batch.float())\n",
    "            _, predicted = torch.max(outputs, 1)\n",
    "            predicted = predicted.cpu()\n",
    "            pred_class.append(predicted.item())\n",
    "            \n",
    "true_class = df_valid['class_id'].tolist()\n",
    "f1_macro = f1_score(true_class, pred_class, average='macro')\n",
    "f1_micro = f1_score(true_class, pred_class, average='micro')\n",
    "f1_weighted = f1_score(true_class, pred_class, average='weighted')\n",
    "print(\"F1 метрика (макро):\", f1_macro)\n",
    "print(\"F1 метрика (микро):\", f1_micro)\n",
    "print(\"F1 метрика (среднее взвешенное):\", f1_weighted)\n",
    "\n",
    "precision, recall, _ , _ = precision_recall_fscore_support(true_class, pred_class)\n",
    "accuracy = accuracy_score(true_class, pred_class)\n",
    "precision_aver = precision.mean()\n",
    "recall_aver = recall.mean()\n",
    "\n",
    "print('Accuracy:', accuracy)\n",
    "print('Average Precision:', precision_aver)\n",
    "print('Average Recall:', recall_aver)\n",
    "\n",
    "# Лучше бы не смотрел..."
   ]
  }
 ],
 "metadata": {
  "kernelspec": {
   "display_name": "Python 3",
   "language": "python",
   "name": "python3"
  },
  "language_info": {
   "codemirror_mode": {
    "name": "ipython",
    "version": 3
   },
   "file_extension": ".py",
   "mimetype": "text/x-python",
   "name": "python",
   "nbconvert_exporter": "python",
   "pygments_lexer": "ipython3",
   "version": "3.6.15"
  }
 },
 "nbformat": 4,
 "nbformat_minor": 5
}
