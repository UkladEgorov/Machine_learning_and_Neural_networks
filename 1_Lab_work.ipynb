{
 "cells": [
  {
   "cell_type": "code",
   "execution_count": 2,
   "id": "829b2708",
   "metadata": {},
   "outputs": [],
   "source": [
    "import numpy as np\n",
    "import pandas as pd"
   ]
  },
  {
   "cell_type": "code",
   "execution_count": 41,
   "id": "4aefdd0d",
   "metadata": {},
   "outputs": [],
   "source": [
    "class Lupa():\n",
    "    \n",
    "    def __init__(self):\n",
    "        self.money_counter = 0\n",
    "        \n",
    "    def take_salary(self, salary):\n",
    "        self.money_counter += salary\n",
    "        print(f\"Lupa has {self.money_counter} money\")\n",
    "    \n",
    "    def do_work(self, list1, list2):\n",
    "        list1 = pd.Series(list1)\n",
    "        list2 = pd.Series(list2)\n",
    "        lupa_work = list(list1 - list2)\n",
    "        print(f\"Lupa has done his work: {lupa_work}\")\n",
    "    \n",
    "class Pupa():\n",
    "\n",
    "    def __init__(self):\n",
    "        self.money_counter = 0\n",
    "        \n",
    "    def take_salary(self, salary):\n",
    "        self.money_counter += salary\n",
    "        print(f\"Pupa has {self.money_counter} money\")\n",
    "    \n",
    "    def do_work(self, list1, list2):\n",
    "        list1 = pd.Series(list1)\n",
    "        list2 = pd.Series(list2)\n",
    "        pupa_work = list(list1 + list2)\n",
    "        print(f\"Pupa has done his work: {pupa_work}\")\n",
    "\n",
    "class Accountant(Lupa, Pupa):\n",
    "    \n",
    "    def get_salary(self, worker, salary):\n",
    "        return worker.take_salary(salary)\n",
    "        \n",
    "    "
   ]
  },
  {
   "cell_type": "code",
   "execution_count": 42,
   "id": "1d97230a",
   "metadata": {},
   "outputs": [
    {
     "name": "stdout",
     "output_type": "stream",
     "text": [
      "Lupa has done his work: [10, -4, -35, 0]\n",
      "Lupa has 5000 money\n",
      "Lupa has 10000 money\n",
      "Lupa has 20010000 money\n",
      "Pupa has done his work: [30, 10, 55, 200]\n",
      "Pupa has 1000000 money\n",
      "Pupa has 2000000 money\n",
      "Pupa has 2005500 money\n"
     ]
    }
   ],
   "source": [
    "list1 = [20, 3, 10, 100]\n",
    "list2 = [10, 7, 45, 100]\n",
    "\n",
    "lupa_salary = 5000\n",
    "lupa_prize = 5500\n",
    "pupa_salary = 1000000\n",
    "pupa_prize = 20000000\n",
    "\n",
    "my_lupa = Lupa()\n",
    "my_lupa.do_work(list1, list2)\n",
    "my_lupa_accountant = Accountant()\n",
    "my_lupa_accountant.get_salary(my_lupa, lupa_salary)\n",
    "my_lupa_accountant.get_salary(my_lupa, lupa_salary)\n",
    "#Под Новый год в бугалтерии всё перепутали..\n",
    "my_lupa_accountant.get_salary(my_lupa, pupa_prize)\n",
    "\n",
    "my_pupa = Pupa()\n",
    "my_pupa.do_work(list1, list2)\n",
    "my_pupa_accountant = Accountant()\n",
    "my_pupa_accountant.get_salary(my_pupa, pupa_salary)\n",
    "my_pupa_accountant.get_salary(my_pupa, pupa_salary)\n",
    "my_pupa_accountant.get_salary(my_pupa, lupa_prize)"
   ]
  }
 ],
 "metadata": {
  "kernelspec": {
   "display_name": "Python 3 (ipykernel)",
   "language": "python",
   "name": "python3"
  },
  "language_info": {
   "codemirror_mode": {
    "name": "ipython",
    "version": 3
   },
   "file_extension": ".py",
   "mimetype": "text/x-python",
   "name": "python",
   "nbconvert_exporter": "python",
   "pygments_lexer": "ipython3",
   "version": "3.11.5"
  }
 },
 "nbformat": 4,
 "nbformat_minor": 5
}
